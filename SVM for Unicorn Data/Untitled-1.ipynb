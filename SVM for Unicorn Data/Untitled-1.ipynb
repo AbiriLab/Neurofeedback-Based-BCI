{
 "cells": [
  {
   "cell_type": "code",
   "execution_count": 1,
   "metadata": {},
   "outputs": [
    {
     "data": {
      "text/plain": [
       "0.31731050786291415"
      ]
     },
     "execution_count": 1,
     "metadata": {},
     "output_type": "execute_result"
    }
   ],
   "source": [
    "from scipy.stats import norm\n",
    "\n",
    "# Calculate P(Z > 1) for a standard normal random variable\n",
    "P_Z_greater_than_1 = 1 - norm.cdf(1)\n",
    "\n",
    "# Since the distribution is symmetric, P(Z < -1) = P(Z > 1)\n",
    "# Hence, P(|Z| > 1) = 2 * P(Z > 1)\n",
    "P_abs_Z_greater_than_1 = 2 * P_Z_greater_than_1\n",
    "\n",
    "P_abs_Z_greater_than_1\n"
   ]
  }
 ],
 "metadata": {
  "kernelspec": {
   "display_name": "Python 3",
   "language": "python",
   "name": "python3"
  },
  "language_info": {
   "codemirror_mode": {
    "name": "ipython",
    "version": 3
   },
   "file_extension": ".py",
   "mimetype": "text/x-python",
   "name": "python",
   "nbconvert_exporter": "python",
   "pygments_lexer": "ipython3",
   "version": "3.11.3"
  }
 },
 "nbformat": 4,
 "nbformat_minor": 2
}
