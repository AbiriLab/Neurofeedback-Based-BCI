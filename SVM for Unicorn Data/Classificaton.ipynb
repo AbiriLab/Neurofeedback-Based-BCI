{
  "cells": [
    {
      "cell_type": "code",
      "execution_count": 2,
      "metadata": {
        "id": "vMaBF4q9pl9k"
      },
      "outputs": [],
      "source": [
        "import os\n",
        "import sklearn\n",
        "import numpy as np\n",
        "import pandas as pd\n",
        "import seaborn as sns\n",
        "import tensorflow as tf\n",
        "from sklearn.svm import SVC\n",
        "import matplotlib.pyplot as plt\n",
        "from scipy.signal import hilbert\n",
        "from sklearn.utils import shuffle\n",
        "from scipy.signal import butter, filtfilt\n",
        "from tensorflow.keras.models import Sequential\n",
        "from sklearn.model_selection import GridSearchCV\n",
        "from sklearn.neighbors import KNeighborsRegressor\n",
        "from sklearn.metrics import classification_report\n",
        "from imblearn.over_sampling import RandomOverSampler\n",
        "from sklearn.model_selection import train_test_split\n",
        "from keras.wrappers.scikit_learn import KerasClassifier\n",
        "from tensorflow.keras.optimizers import Adam, SGD, RMSprop\n",
        "from sklearn.metrics import accuracy_score, classification_report\n",
        "from sklearn.metrics import confusion_matrix, ConfusionMatrixDisplay\n",
        "from tensorflow.keras.layers import Dense,  BatchNormalization, Dropout\n",
        "from tensorflow.keras.layers import Conv2D, MaxPooling2D, Flatten, Dense\n",
        "\n",
        "# from sklearn.metrics import classification_report\n"
      ]
    },
    {
      "cell_type": "code",
      "execution_count": 3,
      "metadata": {},
      "outputs": [],
      "source": [
        "folder_name = input(\"Please enter the subject name: \")"
      ]
    },
    {
      "attachments": {},
      "cell_type": "markdown",
      "metadata": {},
      "source": [
        "Define the dataset"
      ]
    },
    {
      "cell_type": "code",
      "execution_count": 4,
      "metadata": {
        "id": "bvs0pSXWpl9m",
        "outputId": "554c9aa5-47a2-4247-da93-56e4cafad9d0"
      },
      "outputs": [],
      "source": [
        "# Define the column names\n",
        "column_names = ['FZ', 'FC1', 'FC2', 'C3', 'CZ', 'C4', 'CPZ', 'PZ', 'AccelX', 'AccelY', 'AccelZ', 'GyroX', 'GyroY', 'GyroZ',\n",
        "                'Battery', 'Sample', 'Unknown', 'Instruction', 'Female/Male', 'Outdoor/Indoor', 'Human Behavior']\n",
        "df = []\n",
        "if os.path.exists(folder_name) and os.path.isdir(folder_name):\n",
        "    for file_name in os.listdir(folder_name):\n",
        "        if file_name.endswith('.csv'):\n",
        "            file_path = os.path.join(folder_name, file_name)\n",
        "            df_temp = pd.read_csv(file_path, header=None)\n",
        "            df.append(df_temp)     \n",
        "    combined_data_array_3d = np.array(df)\n",
        "    combined_data_array_2d= combined_data_array_3d.reshape(40 * 10000, 21)\n",
        "    \n",
        "Combined_raw_eeg = pd.DataFrame(combined_data_array_2d) \n",
        "Combined_raw_eeg.columns = column_names\n",
        "\n",
        "#Excluding the useless columns\n",
        "columns_to_remove = ['AccelX', 'AccelY', 'AccelZ', 'GyroX', 'GyroY', 'GyroZ', 'Battery', 'Sample', 'Unknown','Instruction','Female/Male', 'Outdoor/Indoor', 'Human Behavior']\n",
        "Combined_raw_eeg = Combined_raw_eeg.drop(columns=columns_to_remove, axis=1)"
      ]
    },
    {
      "cell_type": "code",
      "execution_count": 6,
      "metadata": {},
      "outputs": [],
      "source": [
        "# Band pass filter\n",
        "def butter_bandpass(lowcut, highcut, fs, order=5):\n",
        "    nyq = 0.5 * fs\n",
        "    low = lowcut / nyq\n",
        "    high = highcut / nyq\n",
        "    b, a = butter(order, [low, high], btype='band')\n",
        "    return b, a\n",
        "\n",
        "def butter_bandpass_filter(data, lowcut, highcut, fs, order=5):\n",
        "    b, a = butter_bandpass(lowcut, highcut, fs, order=order)\n",
        "    y = filtfilt(b, a, data)\n",
        "    return y\n",
        "\n",
        "Combined_raw_eeg_bp = np.copy(Combined_raw_eeg)\n",
        "num_columns = Combined_raw_eeg_bp.shape[1]\n",
        "\n",
        "for column in range(num_columns):\n",
        "    Combined_raw_eeg_bp[:, column] = butter_bandpass_filter(Combined_raw_eeg_bp[:, column], lowcut=.4, highcut=40, fs=250)"
      ]
    },
    {
      "cell_type": "code",
      "execution_count": 7,
      "metadata": {},
      "outputs": [],
      "source": [
        "# Pre-proccessing\n",
        "# Denoising \n",
        "def denoise_data(df, col_names, n_clusters):\n",
        "    df_denoised = df.copy()\n",
        "    for col_name, k in zip(col_names, n_clusters):\n",
        "        df_denoised[col_name] = pd.to_numeric(df_denoised[col_name], errors='coerce') # Convert column to numeric format\n",
        "        X = df_denoised.select_dtypes(include=['float64', 'int64']) # Select only numeric columns\n",
        "        clf = KNeighborsRegressor(n_neighbors=k, weights='uniform') # Fit KNeighborsRegressor\n",
        "        clf.fit(X.index.values[:, np.newaxis], X[col_name])\n",
        "        y_pred = clf.predict(X.index.values[:, np.newaxis]) # Predict values \n",
        "        df_denoised[col_name] = y_pred\n",
        "    return df_denoised\n",
        "\n",
        "# Z_scoring\n",
        "def z_score(df, col_names):\n",
        "    df_standard = df.copy()\n",
        "    for col in col_names:\n",
        "        df_standard[col] = (df[col] - df[col].mean()) / df[col].std()\n",
        "    return df_standard\n",
        "\n",
        "# Detrending\n",
        "def detrend(df, col_names):\n",
        "    df_detrended = df.copy()\n",
        "    for col in col_names:\n",
        "        y = df_detrended[col]\n",
        "        x = np.arange(len(y))\n",
        "        p = np.polyfit(x, y, 1)\n",
        "        trend = np.polyval(p, x)\n",
        "        detrended = y - trend\n",
        "        df_detrended[col] = detrended\n",
        "    return df_detrended\n",
        "\n",
        "def preprocess(df, col_names, n_clusters):\n",
        "    df_new = df.copy()\n",
        "    df_new = denoise_data(df, col_names, n_clusters)\n",
        "    df_new = z_score(df_new, col_names)\n",
        "    df_new = detrend(df_new, col_names)\n",
        "    return df_new\n",
        "\n",
        "Combined_raw_eeg_bp=pd.DataFrame(Combined_raw_eeg_bp)\n",
        "eeg_df_denoised = preprocess(Combined_raw_eeg_bp, col_names=list(Combined_raw_eeg_bp.columns), n_clusters=[50]*len(Combined_raw_eeg_bp.columns))"
      ]
    },
    {
      "cell_type": "code",
      "execution_count": 8,
      "metadata": {},
      "outputs": [],
      "source": [
        "# Lableing\n",
        "column_indices = {'Instruction': 17, 'Female/Male': 18, 'Outdoor/Indoor': 19}\n",
        "selected_columns = [column_indices['Instruction'], column_indices['Female/Male'], column_indices['Outdoor/Indoor']]\n",
        "data_im_ins = combined_data_array_2d[:, selected_columns]\n",
        "denoised_im_ins = np.concatenate((eeg_df_denoised, data_im_ins), axis=1)\n",
        "\n",
        "# Check the third last column (column 9) and keep rows if column 9 is equal to 1\n",
        "filtered_denoised_im_ins = denoised_im_ins[(denoised_im_ins[:, -3] == denoised_im_ins[:, -2]) | (denoised_im_ins[:, -3] == denoised_im_ins[:, -1])]\n",
        "filtered_denoised_im_ins_df = pd.DataFrame(filtered_denoised_im_ins)\n",
        "\n",
        "# Create a new column 'event'\n",
        "filtered_denoised_im_ins_df['event'] = ''\n",
        "for index, row in filtered_denoised_im_ins_df.iterrows():\n",
        "    if row.iloc[-4] == 'F' or row.iloc[-4] == 'M':\n",
        "        filtered_denoised_im_ins_df.at[index, 'event'] = '0'\n",
        "    elif row.iloc[-4] == 'I' or row.iloc[-4] == 'O':\n",
        "        filtered_denoised_im_ins_df.at[index, 'event'] = '1'\n",
        "        \n",
        "selected_data = filtered_denoised_im_ins_df.iloc[:, :8]  \n",
        "lable=filtered_denoised_im_ins_df.iloc[:, -1:]"
      ]
    },
    {
      "cell_type": "code",
      "execution_count": 9,
      "metadata": {},
      "outputs": [
        {
          "name": "stdout",
          "output_type": "stream",
          "text": [
            "(360000, 8)\n"
          ]
        }
      ],
      "source": [
        "print(selected_data.shape)"
      ]
    },
    {
      "attachments": {},
      "cell_type": "markdown",
      "metadata": {},
      "source": [
        "Windowing"
      ]
    },
    {
      "cell_type": "code",
      "execution_count": 10,
      "metadata": {},
      "outputs": [],
      "source": [
        "win_size = 250\n",
        "X = []\n",
        "y = []\n",
        "\n",
        "for i in range(0, len(selected_data), win_size):\n",
        "    window_data = selected_data.iloc[i:i+win_size]\n",
        "    window_label = lable.iloc[i:i+win_size]\n",
        "    X.append(window_data)\n",
        "    y.append(window_label)\n",
        "\n",
        "X = np.array(X)\n",
        "y = np.array(y)\n",
        "X, y = shuffle(X, y)"
      ]
    },
    {
      "cell_type": "code",
      "execution_count": 11,
      "metadata": {},
      "outputs": [
        {
          "name": "stdout",
          "output_type": "stream",
          "text": [
            "(1440, 250, 8) (1440, 250, 1)\n"
          ]
        }
      ],
      "source": [
        "print(X.shape, y.shape)"
      ]
    },
    {
      "cell_type": "code",
      "execution_count": 12,
      "metadata": {},
      "outputs": [
        {
          "name": "stdout",
          "output_type": "stream",
          "text": [
            "(1440, 2000)\n"
          ]
        }
      ],
      "source": [
        "array_3d = X.reshape(1440, 250*8)\n",
        "print(array_3d.shape)\n"
      ]
    },
    {
      "cell_type": "code",
      "execution_count": 13,
      "metadata": {},
      "outputs": [],
      "source": [
        "from sklearn.decomposition import PCA\n",
        "from sklearn.preprocessing import StandardScaler\n",
        "import numpy as np\n",
        "\n",
        "# standardize features\n",
        "scaler = StandardScaler()\n",
        "eeg_data_standardized = scaler.fit_transform(array_3d)\n",
        "\n",
        "# perform PCA\n",
        "pca = PCA(n_components=8)  # how many components you want to keep\n",
        "pca.fit(eeg_data_standardized)\n",
        "eeg_data_pca = pca.transform(eeg_data_standardized)\n",
        "\n",
        "# Now eeg_data_pca contains your data with reduced dimensions\n"
      ]
    },
    {
      "cell_type": "code",
      "execution_count": 14,
      "metadata": {},
      "outputs": [
        {
          "name": "stdout",
          "output_type": "stream",
          "text": [
            "(1440, 8)\n"
          ]
        }
      ],
      "source": [
        "print(eeg_data_pca.shape)"
      ]
    },
    {
      "cell_type": "code",
      "execution_count": 15,
      "metadata": {},
      "outputs": [
        {
          "name": "stdout",
          "output_type": "stream",
          "text": [
            "(1440,)\n"
          ]
        }
      ],
      "source": [
        "y_n=np.squeeze(y[:,0])\n",
        "print(y_n.shape)\n",
        "# print(y_n[20], y[20])"
      ]
    },
    {
      "attachments": {},
      "cell_type": "markdown",
      "metadata": {},
      "source": [
        "Feature Extraction for SVM"
      ]
    },
    {
      "cell_type": "code",
      "execution_count": 16,
      "metadata": {},
      "outputs": [
        {
          "name": "stdout",
          "output_type": "stream",
          "text": [
            "(1440, 16)\n"
          ]
        }
      ],
      "source": [
        "# Hilbert feature extraction\n",
        "analytic_signal = hilbert(eeg_data_pca)\n",
        "envelope = np.abs(analytic_signal)\n",
        "envelope=np.hstack((envelope, eeg_data_pca))\n",
        "\n",
        "# selected_dataf=selected_data\n",
        "print(envelope.shape)\n"
      ]
    },
    {
      "cell_type": "code",
      "execution_count": 21,
      "metadata": {},
      "outputs": [
        {
          "data": {
            "text/plain": [
              "8"
            ]
          },
          "execution_count": 21,
          "metadata": {},
          "output_type": "execute_result"
        }
      ],
      "source": [
        "eeg_data_pca.shape[1]"
      ]
    },
    {
      "cell_type": "code",
      "execution_count": null,
      "metadata": {},
      "outputs": [],
      "source": [
        "import numpy as np\n",
        "from scipy.signal import find_peaks\n",
        "\n",
        "# assuming your data is in a 2D numpy array 'data' with shape (1440, 8)\n",
        "# and your event timestamps are in a list 'event_timestamps'\n",
        "# also assuming a sample rate of 256Hz\n",
        "\n",
        "sample_rate = 250  # adjust this if your sample rate is different\n",
        "time_window = sample_rate * 1  # 1 second window\n",
        "\n",
        "# initialize empty lists to hold your features\n",
        "features = []\n",
        "\n",
        "# loop over your channels\n",
        "for channel in range(eeg_data_pca.shape[1]):\n",
        "    # loop over your ERPs\n",
        "    for event_timestamp in event_timestamps:\n",
        "        # convert the event timestamp to a sample index\n",
        "        event_index = int(event_timestamp * sample_rate)\n",
        "        # extract the ERP\n",
        "        erp = eeg_data_pca[event_index:event_index + time_window, channel]\n",
        "        # find the peak\n",
        "        peaks, _ = find_peaks(erp)\n",
        "        # check if peaks were found, if not, continue to next iteration\n",
        "        if len(peaks) == 0:\n",
        "            continue\n",
        "        # get the amplitude and latency of the largest peak\n",
        "        peak_amplitude = np.max(erp[peaks])\n",
        "        peak_latency = np.argmax(erp[peaks]) / sample_rate\n",
        "        # append the features to your list\n",
        "        features.append([channel, peak_amplitude, peak_latency])\n",
        "\n",
        "features = np.array(features)"
      ]
    },
    {
      "attachments": {},
      "cell_type": "markdown",
      "metadata": {},
      "source": [
        "Splitting the data to test and train"
      ]
    },
    {
      "cell_type": "code",
      "execution_count": 17,
      "metadata": {},
      "outputs": [
        {
          "name": "stdout",
          "output_type": "stream",
          "text": [
            "(1440, 16) (1440,)\n"
          ]
        }
      ],
      "source": [
        "X_n = envelope\n",
        "y_n=np.squeeze(y[:,0])\n",
        "print(X_n.shape, y_n.shape)\n",
        "\n",
        "# Balance the dataset\n",
        "oversampler = RandomOverSampler(sampling_strategy='auto', random_state=42)\n",
        "X_resampled, y_resampled = oversampler.fit_resample(X_n, y_n)\n",
        "X_resampled= X_resampled.astype(np.float32)\n",
        "y_resampled = y_resampled.astype(np.int32)\n",
        "\n",
        "# Split X and y into training and testing sets\n",
        "X_touched, X_untouch, y_touch, y_untouch = train_test_split(X_resampled, y_resampled, test_size=0.1, random_state=42)\n",
        "X_train, X_test, y_train, y_test = train_test_split(X_touched, y_touch, test_size=0.1, random_state=42)\n",
        "\n",
        "# Convert y_train and y_test to categorical format for Keras\n",
        "y_train = tf.keras.utils.to_categorical(y_train, num_classes=2)\n",
        "y_test = tf.keras.utils.to_categorical(y_test, num_classes=2)\n",
        "y_untouch=tf.keras.utils.to_categorical(y_untouch, num_classes=2)"
      ]
    },
    {
      "cell_type": "code",
      "execution_count": 18,
      "metadata": {},
      "outputs": [
        {
          "name": "stdout",
          "output_type": "stream",
          "text": [
            "(1166,) (130,)\n"
          ]
        }
      ],
      "source": [
        "# Convert one-hot-encoded labels to integer-encoded labels\n",
        "y_train = np.argmax(y_train, axis=-1)\n",
        "y_test = np.argmax(y_test, axis=-1)\n",
        "y_untouch = np.argmax(y_untouch, axis=-1)\n",
        "\n",
        "print(y_train.shape, y_test.shape)"
      ]
    },
    {
      "cell_type": "code",
      "execution_count": 19,
      "metadata": {},
      "outputs": [
        {
          "name": "stdout",
          "output_type": "stream",
          "text": [
            "X_train: (1166, 16) y_train: (1166,) X_test: (130, 16) y_test: (130,) X_untouch: (144, 16) y_untouch: (144,)\n"
          ]
        }
      ],
      "source": [
        "print('X_train:', X_train.shape, 'y_train:', y_train.shape, 'X_test:', X_test.shape, 'y_test:',\n",
        "      y_test.shape, 'X_untouch:', X_untouch.shape, 'y_untouch:', y_untouch.shape )"
      ]
    },
    {
      "attachments": {},
      "cell_type": "markdown",
      "metadata": {},
      "source": [
        "SVM"
      ]
    },
    {
      "cell_type": "code",
      "execution_count": 20,
      "metadata": {},
      "outputs": [
        {
          "name": "stdout",
          "output_type": "stream",
          "text": [
            "Model accuracy:  0.5076923076923077\n",
            "Classification Report:\n",
            "              precision    recall  f1-score   support\n",
            "\n",
            "           0       0.50      0.09      0.16        64\n",
            "           1       0.51      0.91      0.65        66\n",
            "\n",
            "    accuracy                           0.51       130\n",
            "   macro avg       0.50      0.50      0.41       130\n",
            "weighted avg       0.50      0.51      0.41       130\n",
            "\n"
          ]
        }
      ],
      "source": [
        "\n",
        "from sklearn import svm\n",
        "# Create a linear SVM classifier\n",
        "clf = svm.SVC(kernel='linear')\n",
        "\n",
        "# Train the classifier\n",
        "clf.fit(X_train, y_train)\n",
        "\n",
        "# Make predictions on the test set\n",
        "y_pred = clf.predict(X_test)\n",
        "\n",
        "print('Model accuracy: ', accuracy_score(y_test, y_pred))\n",
        "report_svm_matrix = classification_report(y_test, y_pred)\n",
        "print(\"Classification Report:\")\n",
        "print(report_svm_matrix)\n",
        "report_svm = classification_report(y_test, y_pred, output_dict=True)\n",
        "\n",
        "\n",
        "\n",
        "\n",
        "report_df_svm = pd.DataFrame(report_svm).transpose()\n",
        "report_df_svm.to_excel(f\"svm_classification_report_{folder_name}.xlsx\", index=True)\n"
      ]
    },
    {
      "cell_type": "code",
      "execution_count": 147,
      "metadata": {},
      "outputs": [
        {
          "name": "stdout",
          "output_type": "stream",
          "text": [
            "Accuracy: 0.6319444444444444\n",
            "Classification Report:\n",
            "              precision    recall  f1-score   support\n",
            "\n",
            "           0       0.61      0.71      0.66        72\n",
            "           1       0.66      0.56      0.60        72\n",
            "\n",
            "    accuracy                           0.63       144\n",
            "   macro avg       0.64      0.63      0.63       144\n",
            "weighted avg       0.64      0.63      0.63       144\n",
            "\n"
          ]
        },
        {
          "data": {
            "image/png": "[encoded data removed]",
            "text/plain": [
              "<Figure size 1000x1000 with 2 Axes>"
            ]
          },
          "metadata": {},
          "output_type": "display_data"
        }
      ],
      "source": [
        "# Predict on the untouched data\n",
        "\n",
        "y_pred_untouch = clf.predict(X_untouch)\n",
        "# Calculate accuracy\n",
        "accuracy_svm = accuracy_score(y_untouch, y_pred_untouch)\n",
        "print('Accuracy:', accuracy_svm)\n",
        "report_svm = classification_report(y_untouch, y_pred_untouch)\n",
        "print(\"Classification Report:\")\n",
        "print(report_svm)\n",
        "report_df_svm.to_excel(f\"svm_validation_{folder_name}.xlsx\", index=True)\n",
        "\n",
        "# Compute the confusion matrix\n",
        "cm_svm= confusion_matrix(y_test, y_pred)\n",
        "\n",
        "# Plot the confusion matrix as a heatmap\n",
        "fig, ax = plt.subplots(figsize=(10, 10))\n",
        "ConfusionMatrixDisplay(cm_svm).plot(ax=ax, cmap='viridis')\n",
        "plt.title(f'SVM_Confusion Matrix Heatmap_{folder_name}', fontsize=20)\n",
        "plt.xlabel('Predicted Label', fontsize=16)\n",
        "plt.ylabel('True Label', fontsize=16)\n",
        "plt.xticks(fontsize=14)\n",
        "plt.yticks(fontsize=14)\n",
        "plt.savefig(f'SVM_confusion_matrix_heatmap_{folder_name}.png', dpi=300)\n",
        "plt.show()"
      ]
    }
  ],
  "metadata": {
    "colab": {
      "provenance": []
    },
    "kernelspec": {
      "display_name": "base",
      "language": "python",
      "name": "python3"
    },
    "language_info": {
      "codemirror_mode": {
        "name": "ipython",
        "version": 3
      },
      "file_extension": ".py",
      "mimetype": "text/x-python",
      "name": "python",
      "nbconvert_exporter": "python",
      "pygments_lexer": "ipython3",
      "version": "3.10.9"
    },
    "orig_nbformat": 4
  },
  "nbformat": 4,
  "nbformat_minor": 0
}
