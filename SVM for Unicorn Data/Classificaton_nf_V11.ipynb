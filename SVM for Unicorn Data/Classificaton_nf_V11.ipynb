{
  "cells": [
    {
      "cell_type": "code",
      "execution_count": 1,
      "metadata": {
        "id": "vMaBF4q9pl9k"
      },
      "outputs": [],
      "source": [
        "import os\n",
        "import sklearn\n",
        "import numpy as np\n",
        "from numpy import unwrap, diff, abs, angle\n",
        "import pandas as pd\n",
        "import seaborn as sns\n",
        "import tensorflow as tf\n",
        "from sklearn.svm import SVC\n",
        "import matplotlib.pyplot as plt\n",
        "from scipy.signal import hilbert\n",
        "from sklearn.utils import shuffle\n",
        "import scipy\n",
        "from scipy.signal import butter, filtfilt, hilbert\n",
        "from scipy.interpolate import interp1d\n",
        "from scipy.interpolate import CubicSpline\n",
        "from tensorflow.keras.models import Sequential\n",
        "from sklearn.model_selection import GridSearchCV\n",
        "from sklearn.neighbors import KNeighborsRegressor\n",
        "from sklearn.metrics import classification_report\n",
        "from imblearn.over_sampling import RandomOverSampler\n",
        "from sklearn.model_selection import train_test_split\n",
        "from keras.wrappers.scikit_learn import KerasClassifier\n",
        "from tensorflow.keras.optimizers import Adam, SGD, RMSprop\n",
        "from sklearn.metrics import accuracy_score, classification_report\n",
        "from sklearn.metrics import confusion_matrix, ConfusionMatrixDisplay\n",
        "from tensorflow.keras.layers import Dense,  BatchNormalization, Dropout\n",
        "from tensorflow.keras.layers import Conv2D, MaxPooling2D, Flatten, Dense\n",
        "import mne\n",
        "from mne.preprocessing import ICA\n",
        "import pywt\n",
        "from scipy.stats import skew, kurtosis\n",
        "from scipy.signal import spectrogram"
      ]
    },
    {
      "cell_type": "markdown",
      "metadata": {},
      "source": [
        "Preproccesing Functions"
      ]
    },
    {
      "cell_type": "code",
      "execution_count": 2,
      "metadata": {},
      "outputs": [],
      "source": [
        "def butter_bandpass(lowcut, highcut, fs, order=5):\n",
        "    nyq = 0.5 * fs\n",
        "    low = lowcut / nyq\n",
        "    high = highcut / nyq\n",
        "    b, a = butter(order, [low, high], btype='band')\n",
        "    return b, a\n",
        "\n",
        "def butter_bandpass_filter(data, lowcut, highcut, fs, order=5):\n",
        "    b, a = butter_bandpass(lowcut, highcut, fs, order=order)\n",
        "    y = filtfilt(b, a, data)\n",
        "    return y\n",
        "\n",
        "def denoise_data(df, col_names, n_clusters):\n",
        "    df_denoised = df.copy()\n",
        "    for col_name, k in zip(col_names, n_clusters):\n",
        "        df_denoised[col_name] = pd.to_numeric(df_denoised[col_name], errors='coerce') # Convert column to numeric format\n",
        "        X = df_denoised.select_dtypes(include=['float64', 'int64']) # Select only numeric columns\n",
        "        clf = KNeighborsRegressor(n_neighbors=k, weights='uniform') # Fit KNeighborsRegressor\n",
        "        clf.fit(X.index.values[:, np.newaxis], X[col_name])\n",
        "        y_pred = clf.predict(X.index.values[:, np.newaxis]) # Predict values \n",
        "        df_denoised[col_name] = y_pred\n",
        "    return df_denoised\n",
        "\n",
        "def z_score(df, col_names):\n",
        "    df_standard = df.copy()\n",
        "    for col in col_names:\n",
        "        df_standard[col] = (df[col] - df[col].mean()) / df[col].std()\n",
        "    return df_standard\n",
        "\n",
        "def custom_detrend(df, col_names):\n",
        "    df_detrended = df.copy()\n",
        "    for col in col_names:\n",
        "        y = df_detrended[col]\n",
        "        x = np.arange(len(y))\n",
        "        p = np.polyfit(x, y, 1)\n",
        "        trend = np.polyval(p, x)\n",
        "        detrended = y - trend\n",
        "        df_detrended[col] = detrended\n",
        "    return df_detrended\n",
        "\n",
        "def preprocess(df, col_names, n_clusters):\n",
        "    df_new = df.copy()\n",
        "    df_new = denoise_data(df, col_names, n_clusters)\n",
        "    # df_new = z_score(df_new, col_names)\n",
        "    # df_new = custom_detrend(df_new, col_names)\n",
        "    return df_new\n",
        "\n",
        "def df_to_raw(df, sfreq=250):\n",
        "    info = mne.create_info(ch_names=list(df.columns), sfreq=sfreq, ch_types=['eeg'] * df.shape[1])\n",
        "    raw = mne.io.RawArray(df.T.values * 1e-6, info)  # Converting values to Volts from microvolts for MNE\n",
        "    return raw\n",
        "\n",
        "def reject_artifacts(df, channel):\n",
        "    threshold_factor = 3\n",
        "    median = df[channel].median()\n",
        "    mad = np.median(np.abs(df[channel] - median))\n",
        "    spikes = np.abs(df[channel] - median) > threshold_factor * mad\n",
        "    x = np.arange(len(df[channel]))\n",
        "    cs = CubicSpline(x[~spikes], df[channel][~spikes]) # Interpolate using Cubic Spline\n",
        "    interpolated_values = cs(x)\n",
        "    interpolated_values[spikes] *= 0.1  # Make interpolated values 0.1 times smaller\n",
        "    # Check each interpolated value's difference from median and compare to the threshold\n",
        "    spike_values = np.abs(interpolated_values - median) > threshold_factor * mad\n",
        "    interpolated_values[spike_values] *= 0.001 \n",
        "    df[channel] = interpolated_values\n",
        "    return df\n"
      ]
    },
    {
      "attachments": {},
      "cell_type": "markdown",
      "metadata": {},
      "source": [
        "Define the dataset"
      ]
    },
    {
      "cell_type": "code",
      "execution_count": 111,
      "metadata": {},
      "outputs": [
        {
          "name": "stdout",
          "output_type": "stream",
          "text": [
            "(11750, 8)\n",
            "(10000, 8)\n",
            "(11750, 8)\n",
            "(10000, 8)\n",
            "(11750, 8)\n",
            "(10000, 8)\n",
            "(11750, 8)\n",
            "(10000, 8)\n",
            "(11750, 8)\n",
            "(10000, 8)\n",
            "(11750, 8)\n",
            "(10000, 8)\n",
            "(11750, 8)\n",
            "(10000, 8)\n",
            "(11750, 8)\n",
            "(10000, 8)\n"
          ]
        }
      ],
      "source": [
        "folder_name = 'Ethan_1'\n",
        "selected_columns = ['Fz', 'FC1', 'FC2', 'C3', 'Cz', 'C4', 'CPz', 'Pz']\n",
        "duration = 40 \n",
        "raw=[]\n",
        "event=[]\n",
        "BP=[]\n",
        "PP=[]\n",
        "B=[]\n",
        "if os.path.exists(folder_name) and os.path.isdir(folder_name):\n",
        "    for file_name in os.listdir(folder_name):\n",
        "        if file_name.endswith('.csv'):\n",
        "            file_path = os.path.join(folder_name, file_name)\n",
        "            s_temp = pd.read_csv(file_path, header=None)\n",
        "            inst = s_temp.iloc[1750:, 17]\n",
        "            df_temp = s_temp.iloc[:, :8]\n",
        "            # print(df_temp.shape)\n",
        "            # df_temp.plot(figsize=(10, 8))\n",
        "            # plt.show()\n",
        "            raw.append(df_temp)\n",
        "            event.append(inst)\n",
        "            \n",
        "            # 1. Band Pass\n",
        "            raw_bp = np.copy(df_temp)\n",
        "            for column in range(8):\n",
        "                raw_bp[:, column] = butter_bandpass_filter(raw_bp[:, column], lowcut=.4, highcut=40, fs=250) \n",
        "            print(raw_bp.shape)\n",
        "            # plt.plot(raw_bp)\n",
        "            # plt.show()\n",
        "            \n",
        "            # 2. Artifact rejection\n",
        "            BP_artifact_RJ = np.copy(raw_bp)\n",
        "            for channel in range (8):\n",
        "                BP_artifact_RJ= reject_artifacts(pd.DataFrame(BP_artifact_RJ), channel)\n",
        "            # plt.plot(BP_artifact_RJ)\n",
        "            # plt.show()\n",
        "            \n",
        "            # 4. Denoising and other preprocessing\n",
        "            BP_artifact_RJ.columns = selected_columns\n",
        "            eeg_df_denoised = preprocess(pd.DataFrame(BP_artifact_RJ), col_names=selected_columns, n_clusters=[10]*len(selected_columns))\n",
        "            baseline=eeg_df_denoised.iloc[1250:1750,]\n",
        "            # print(type(eeg_df_denoised), eeg_df_denoised.shape)\n",
        "            dd=eeg_df_denoised.iloc[1750:,]\n",
        "            print(dd.shape)\n",
        "            # eeg_df_denoised.plot(subplots=True, figsize=(15, 10), title='Denoised EEG Data')\n",
        "            # plt.show()\n",
        "            B.append(baseline)\n",
        "            PP.append(dd)"
      ]
    },
    {
      "cell_type": "code",
      "execution_count": 112,
      "metadata": {},
      "outputs": [],
      "source": [
        "B_NP=np.array(B)\n",
        "B_NP_mean=(B_NP.mean(axis=0)).mean(axis=0)"
      ]
    },
    {
      "cell_type": "code",
      "execution_count": 113,
      "metadata": {},
      "outputs": [],
      "source": [
        "fs=250\n",
        "B_N=int(len(PP)) #Number of blocks\n",
        "PP_NP=np.array(PP) #shape: (B_N, 10000, 8=Channel Numbers)\n",
        "event=np.array(event).reshape(B_N*(dd.shape[0]), 1) # df_temp.shape[0]=10000\n",
        "denoised=PP_NP.reshape(B_N*(dd.shape[0]), 8) # seprate each blocks' signal \n",
        "pp_sig_event=np.concatenate((denoised, event), axis=1) "
      ]
    },
    {
      "cell_type": "code",
      "execution_count": 114,
      "metadata": {},
      "outputs": [
        {
          "name": "stdout",
          "output_type": "stream",
          "text": [
            "event (80000, 1) denoised (80000, 8) pp_sig_event (80000, 9) face (40000, 9) scene (40000, 9) labels (80000,)\n"
          ]
        }
      ],
      "source": [
        "labels=[] \n",
        "face = [] #lable=0\n",
        "scene=[]#lable=1\n",
        "# Aassuming correctness for the human behavior\n",
        "for i in range(len(pp_sig_event)): #len(pp_sig_event) = the whole sample points, (df_temp.shape[0]*B_N)\n",
        "    if 'M' in pp_sig_event[i, 8] or 'F' in pp_sig_event[i, 8]:\n",
        "        face.append(pp_sig_event[i])\n",
        "        labels.append(0)\n",
        "    if 'O' in pp_sig_event[i, 8] or 'I' in pp_sig_event[i, 8]:\n",
        "        scene.append(pp_sig_event[i]) \n",
        "        labels.append(1)        \n",
        "face = np.array(face)\n",
        "scene = np.array(scene)\n",
        "labels=np.array(labels)               \n",
        "print('event', event.shape,  'denoised',  denoised.shape, 'pp_sig_event', pp_sig_event.shape, 'face', face.shape, 'scene', scene.shape, 'labels', labels.shape)  \n",
        "#denoised is all the denoised data with shape: (df_temp.shape[0]*B_N, 8)     \n",
        "# event is all the events with shape: (df_temp.shape[0]*B_N, 1)                                                                                                            "
      ]
    },
    {
      "cell_type": "code",
      "execution_count": 115,
      "metadata": {},
      "outputs": [],
      "source": [
        "label=labels.reshape(int(labels.shape[0]/fs), fs)\n",
        "Y=np.squeeze(label[:,0])\n",
        "denoised_reshaped = denoised.reshape(int(denoised.shape[0]/250), 250, 8)\n"
      ]
    },
    {
      "cell_type": "code",
      "execution_count": 117,
      "metadata": {},
      "outputs": [
        {
          "data": {
            "text/plain": [
              "(320, 250, 8)"
            ]
          },
          "execution_count": 117,
          "metadata": {},
          "output_type": "execute_result"
        }
      ],
      "source": [
        "# To subtract the baseline from each data point of the corresponding channel,\n",
        "# we need to reshape B_NP_mean to be broadcastable to the shape of denoised_reshaped\n",
        "B_NP_mean_reshaped = B_NP_mean.reshape(1, 1, 8)\n",
        "# Now we can subtract the baseline from the denoised data\n",
        "corrected_data = denoised_reshaped - B_NP_mean_reshaped\n",
        "corrected_data.shape # This should return (640, 250, 8)\n"
      ]
    },
    {
      "cell_type": "code",
      "execution_count": 121,
      "metadata": {},
      "outputs": [
        {
          "data": {
            "text/plain": [
              "(250, 8)"
            ]
          },
          "execution_count": 121,
          "metadata": {},
          "output_type": "execute_result"
        }
      ],
      "source": [
        "re_ref=corrected_data.mean(axis=0)\n",
        "re_ref.shape"
      ]
    },
    {
      "cell_type": "code",
      "execution_count": 122,
      "metadata": {},
      "outputs": [
        {
          "data": {
            "text/plain": [
              "(1, 250, 8)"
            ]
          },
          "execution_count": 122,
          "metadata": {},
          "output_type": "execute_result"
        }
      ],
      "source": [
        "re_ref_broadcast =re_ref.reshape(1, 250, 8)\n",
        "re_ref_broadcast.shape"
      ]
    },
    {
      "cell_type": "code",
      "execution_count": 123,
      "metadata": {},
      "outputs": [
        {
          "data": {
            "text/plain": [
              "(320, 250, 8)"
            ]
          },
          "execution_count": 123,
          "metadata": {},
          "output_type": "execute_result"
        }
      ],
      "source": [
        "re_refed_data=corrected_data-re_ref_broadcast\n",
        "re_refed_data.shape"
      ]
    },
    {
      "cell_type": "code",
      "execution_count": 124,
      "metadata": {},
      "outputs": [
        {
          "name": "stdout",
          "output_type": "stream",
          "text": [
            "(320, 2000)\n",
            "(320, 2000) (320,)\n"
          ]
        }
      ],
      "source": [
        "mlp_data=corrected_data.reshape(corrected_data.shape[0], corrected_data.shape[1]*corrected_data.shape[2])\n",
        "print(mlp_data.shape)\n",
        "\n",
        "af_mlp=mlp_data\n",
        "Y_mlp=np.squeeze(label[:,0])\n",
        "af_mlp, Y_mlp= shuffle(af_mlp, Y_mlp)\n",
        "print(af_mlp.shape, Y_mlp.shape)\n",
        "# Balance the dataset\n",
        "oversampler = RandomOverSampler(sampling_strategy='auto', random_state=42)\n",
        "X_resampled_mlp, y_resampled_mlp = oversampler.fit_resample(af_mlp, Y_mlp)\n",
        "X_resampled_mlp= X_resampled_mlp.astype(np.float32)\n",
        "y_resampled_mlp = y_resampled_mlp.astype(np.int32)\n",
        "X_train_mlp, X_test_mlp, y_train_mlp, y_test_mlp = train_test_split(X_resampled_mlp,y_resampled_mlp, test_size=0.2, random_state=42)\n"
      ]
    },
    {
      "cell_type": "code",
      "execution_count": 125,
      "metadata": {},
      "outputs": [
        {
          "name": "stderr",
          "output_type": "stream",
          "text": [
            "[I 2023-11-06 17:34:03,399] A new study created in memory with name: no-name-84e7de7d-c2c1-4642-8f21-5bc32146c145\n",
            "[I 2023-11-06 17:34:04,648] Trial 0 finished with value: 0.53125 and parameters: {'n_layers': 4, 'n_units_layer0': 29, 'n_units_layer1': 501, 'n_units_layer2': 472, 'n_units_layer3': 328, 'activation': 'logistic', 'learning_rate_init': 0.028129254831631326, 'max_iter': 165}. Best is trial 0 with value: 0.53125.\n",
            "[I 2023-11-06 17:34:07,302] Trial 1 finished with value: 0.65625 and parameters: {'n_layers': 4, 'n_units_layer0': 327, 'n_units_layer1': 307, 'n_units_layer2': 108, 'n_units_layer3': 410, 'activation': 'logistic', 'learning_rate_init': 0.035487452232647494, 'max_iter': 193}. Best is trial 1 with value: 0.65625.\n",
            "[I 2023-11-06 17:34:09,200] Trial 2 finished with value: 0.5 and parameters: {'n_layers': 2, 'n_units_layer0': 162, 'n_units_layer1': 199, 'activation': 'identity', 'learning_rate_init': 0.011039543251980493, 'max_iter': 894}. Best is trial 1 with value: 0.65625.\n",
            "[I 2023-11-06 17:34:10,085] Trial 3 finished with value: 0.59375 and parameters: {'n_layers': 4, 'n_units_layer0': 115, 'n_units_layer1': 250, 'n_units_layer2': 484, 'n_units_layer3': 194, 'activation': 'relu', 'learning_rate_init': 0.0006449622060084317, 'max_iter': 93}. Best is trial 1 with value: 0.65625.\n",
            "[I 2023-11-06 17:34:11,264] Trial 4 finished with value: 0.546875 and parameters: {'n_layers': 3, 'n_units_layer0': 404, 'n_units_layer1': 149, 'n_units_layer2': 31, 'activation': 'relu', 'learning_rate_init': 0.00013895854578512977, 'max_iter': 443}. Best is trial 1 with value: 0.65625.\n",
            "[I 2023-11-06 17:34:14,038] Trial 5 finished with value: 0.578125 and parameters: {'n_layers': 3, 'n_units_layer0': 105, 'n_units_layer1': 43, 'n_units_layer2': 174, 'activation': 'logistic', 'learning_rate_init': 0.000544334554063243, 'max_iter': 854}. Best is trial 1 with value: 0.65625.\n",
            "[I 2023-11-06 17:34:15,089] Trial 6 finished with value: 0.609375 and parameters: {'n_layers': 1, 'n_units_layer0': 182, 'activation': 'relu', 'learning_rate_init': 0.017714863416942773, 'max_iter': 256}. Best is trial 1 with value: 0.65625.\n",
            "[I 2023-11-06 17:34:22,260] Trial 7 finished with value: 0.625 and parameters: {'n_layers': 2, 'n_units_layer0': 323, 'n_units_layer1': 348, 'activation': 'logistic', 'learning_rate_init': 0.025685579272169173, 'max_iter': 933}. Best is trial 1 with value: 0.65625.\n",
            "[I 2023-11-06 17:34:24,475] Trial 8 finished with value: 0.5625 and parameters: {'n_layers': 3, 'n_units_layer0': 101, 'n_units_layer1': 134, 'n_units_layer2': 156, 'activation': 'logistic', 'learning_rate_init': 0.01638167068261036, 'max_iter': 702}. Best is trial 1 with value: 0.65625.\n",
            "[I 2023-11-06 17:34:26,337] Trial 9 finished with value: 0.546875 and parameters: {'n_layers': 4, 'n_units_layer0': 282, 'n_units_layer1': 252, 'n_units_layer2': 170, 'n_units_layer3': 131, 'activation': 'tanh', 'learning_rate_init': 0.0001550884331123703, 'max_iter': 850}. Best is trial 1 with value: 0.65625.\n",
            "[I 2023-11-06 17:34:29,391] Trial 10 finished with value: 0.5 and parameters: {'n_layers': 1, 'n_units_layer0': 493, 'activation': 'identity', 'learning_rate_init': 0.09156656671281486, 'max_iter': 356}. Best is trial 1 with value: 0.65625.\n",
            "[I 2023-11-06 17:34:31,083] Trial 11 finished with value: 0.46875 and parameters: {'n_layers': 2, 'n_units_layer0': 333, 'n_units_layer1': 389, 'activation': 'logistic', 'learning_rate_init': 0.0929804490779826, 'max_iter': 641}. Best is trial 1 with value: 0.65625.\n",
            "[I 2023-11-06 17:34:35,383] Trial 12 finished with value: 0.5625 and parameters: {'n_layers': 2, 'n_units_layer0': 367, 'n_units_layer1': 351, 'activation': 'logistic', 'learning_rate_init': 0.005451890437058572, 'max_iter': 580}. Best is trial 1 with value: 0.65625.\n",
            "[I 2023-11-06 17:34:38,290] Trial 13 finished with value: 0.5625 and parameters: {'n_layers': 2, 'n_units_layer0': 243, 'n_units_layer1': 358, 'activation': 'tanh', 'learning_rate_init': 0.03632520066972313, 'max_iter': 428}. Best is trial 1 with value: 0.65625.\n",
            "[I 2023-11-06 17:34:42,187] Trial 14 finished with value: 0.5625 and parameters: {'n_layers': 3, 'n_units_layer0': 448, 'n_units_layer1': 449, 'n_units_layer2': 49, 'activation': 'logistic', 'learning_rate_init': 0.004972214068936065, 'max_iter': 993}. Best is trial 1 with value: 0.65625.\n",
            "[I 2023-11-06 17:34:46,137] Trial 15 finished with value: 0.484375 and parameters: {'n_layers': 1, 'n_units_layer0': 288, 'activation': 'logistic', 'learning_rate_init': 0.04114003307430083, 'max_iter': 734}. Best is trial 1 with value: 0.65625.\n",
            "[I 2023-11-06 17:34:47,476] Trial 16 finished with value: 0.46875 and parameters: {'n_layers': 4, 'n_units_layer0': 344, 'n_units_layer1': 310, 'n_units_layer2': 328, 'n_units_layer3': 499, 'activation': 'logistic', 'learning_rate_init': 0.007768148186539753, 'max_iter': 271}. Best is trial 1 with value: 0.65625.\n",
            "[I 2023-11-06 17:34:49,496] Trial 17 finished with value: 0.46875 and parameters: {'n_layers': 3, 'n_units_layer0': 236, 'n_units_layer1': 403, 'n_units_layer2': 324, 'activation': 'identity', 'learning_rate_init': 0.0037068718651397914, 'max_iter': 73}. Best is trial 1 with value: 0.65625.\n",
            "[I 2023-11-06 17:34:50,942] Trial 18 finished with value: 0.515625 and parameters: {'n_layers': 2, 'n_units_layer0': 412, 'n_units_layer1': 298, 'activation': 'tanh', 'learning_rate_init': 0.001954934648094329, 'max_iter': 520}. Best is trial 1 with value: 0.65625.\n",
            "[I 2023-11-06 17:34:56,226] Trial 19 finished with value: 0.46875 and parameters: {'n_layers': 1, 'n_units_layer0': 310, 'activation': 'logistic', 'learning_rate_init': 0.04761458010271091, 'max_iter': 245}. Best is trial 1 with value: 0.65625.\n",
            "[I 2023-11-06 17:34:58,109] Trial 20 finished with value: 0.46875 and parameters: {'n_layers': 4, 'n_units_layer0': 205, 'n_units_layer1': 451, 'n_units_layer2': 248, 'n_units_layer3': 395, 'activation': 'logistic', 'learning_rate_init': 0.013200019815224388, 'max_iter': 993}. Best is trial 1 with value: 0.65625.\n",
            "[I 2023-11-06 17:34:58,844] Trial 21 finished with value: 0.4375 and parameters: {'n_layers': 1, 'n_units_layer0': 172, 'activation': 'relu', 'learning_rate_init': 0.023443822740432187, 'max_iter': 273}. Best is trial 1 with value: 0.65625.\n",
            "[I 2023-11-06 17:35:00,696] Trial 22 finished with value: 0.484375 and parameters: {'n_layers': 1, 'n_units_layer0': 256, 'activation': 'relu', 'learning_rate_init': 0.01829352480687222, 'max_iter': 172}. Best is trial 1 with value: 0.65625.\n",
            "[I 2023-11-06 17:35:01,382] Trial 23 finished with value: 0.546875 and parameters: {'n_layers': 2, 'n_units_layer0': 378, 'n_units_layer1': 298, 'activation': 'relu', 'learning_rate_init': 0.05020564847023392, 'max_iter': 367}. Best is trial 1 with value: 0.65625.\n",
            "[I 2023-11-06 17:35:02,575] Trial 24 finished with value: 0.53125 and parameters: {'n_layers': 1, 'n_units_layer0': 205, 'activation': 'relu', 'learning_rate_init': 0.010686119412154343, 'max_iter': 205}. Best is trial 1 with value: 0.65625.\n",
            "[I 2023-11-06 17:35:03,877] Trial 25 finished with value: 0.609375 and parameters: {'n_layers': 2, 'n_units_layer0': 312, 'n_units_layer1': 206, 'activation': 'relu', 'learning_rate_init': 0.024895046300703563, 'max_iter': 341}. Best is trial 1 with value: 0.65625.\n",
            "[I 2023-11-06 17:35:04,303] Trial 26 finished with value: 0.484375 and parameters: {'n_layers': 3, 'n_units_layer0': 31, 'n_units_layer1': 346, 'n_units_layer2': 88, 'activation': 'identity', 'learning_rate_init': 0.017632366212637043, 'max_iter': 500}. Best is trial 1 with value: 0.65625.\n",
            "d:\\11-software\\Python3.8\\lib\\site-packages\\sklearn\\neural_network\\_multilayer_perceptron.py:686: ConvergenceWarning: Stochastic Optimizer: Maximum iterations (123) reached and the optimization hasn't converged yet.\n",
            "  warnings.warn(\n",
            "[I 2023-11-06 17:35:08,316] Trial 27 finished with value: 0.421875 and parameters: {'n_layers': 1, 'n_units_layer0': 465, 'activation': 'tanh', 'learning_rate_init': 0.05971757569715589, 'max_iter': 123}. Best is trial 1 with value: 0.65625.\n",
            "[I 2023-11-06 17:35:11,893] Trial 28 finished with value: 0.484375 and parameters: {'n_layers': 2, 'n_units_layer0': 211, 'n_units_layer1': 34, 'activation': 'logistic', 'learning_rate_init': 0.03003434204532394, 'max_iter': 769}. Best is trial 1 with value: 0.65625.\n",
            "[I 2023-11-06 17:35:12,553] Trial 29 finished with value: 0.53125 and parameters: {'n_layers': 3, 'n_units_layer0': 156, 'n_units_layer1': 434, 'n_units_layer2': 258, 'activation': 'logistic', 'learning_rate_init': 0.026175382418472677, 'max_iter': 169}. Best is trial 1 with value: 0.65625.\n",
            "[I 2023-11-06 17:35:13,188] Trial 30 finished with value: 0.515625 and parameters: {'n_layers': 4, 'n_units_layer0': 30, 'n_units_layer1': 97, 'n_units_layer2': 393, 'n_units_layer3': 510, 'activation': 'relu', 'learning_rate_init': 0.008876561502744861, 'max_iter': 580}. Best is trial 1 with value: 0.65625.\n",
            "[I 2023-11-06 17:35:14,569] Trial 31 finished with value: 0.5625 and parameters: {'n_layers': 2, 'n_units_layer0': 311, 'n_units_layer1': 214, 'activation': 'relu', 'learning_rate_init': 0.026217371908798984, 'max_iter': 329}. Best is trial 1 with value: 0.65625.\n",
            "[I 2023-11-06 17:35:15,354] Trial 32 finished with value: 0.453125 and parameters: {'n_layers': 2, 'n_units_layer0': 338, 'n_units_layer1': 192, 'activation': 'relu', 'learning_rate_init': 0.05835403448848771, 'max_iter': 409}. Best is trial 1 with value: 0.65625.\n",
            "[I 2023-11-06 17:35:16,856] Trial 33 finished with value: 0.5 and parameters: {'n_layers': 2, 'n_units_layer0': 278, 'n_units_layer1': 270, 'activation': 'relu', 'learning_rate_init': 0.021445589209645493, 'max_iter': 300}. Best is trial 1 with value: 0.65625.\n",
            "[I 2023-11-06 17:35:19,414] Trial 34 finished with value: 0.5625 and parameters: {'n_layers': 2, 'n_units_layer0': 373, 'n_units_layer1': 225, 'activation': 'relu', 'learning_rate_init': 0.01315717247952684, 'max_iter': 227}. Best is trial 1 with value: 0.65625.\n",
            "[I 2023-11-06 17:35:20,755] Trial 35 finished with value: 0.515625 and parameters: {'n_layers': 1, 'n_units_layer0': 311, 'activation': 'relu', 'learning_rate_init': 0.03427563110463474, 'max_iter': 120}. Best is trial 1 with value: 0.65625.\n",
            "[I 2023-11-06 17:35:25,936] Trial 36 finished with value: 0.5 and parameters: {'n_layers': 3, 'n_units_layer0': 411, 'n_units_layer1': 164, 'n_units_layer2': 107, 'activation': 'identity', 'learning_rate_init': 0.015614544178691432, 'max_iter': 478}. Best is trial 1 with value: 0.65625.\n",
            "[I 2023-11-06 17:35:27,047] Trial 37 finished with value: 0.53125 and parameters: {'n_layers': 4, 'n_units_layer0': 142, 'n_units_layer1': 102, 'n_units_layer2': 210, 'n_units_layer3': 26, 'activation': 'logistic', 'learning_rate_init': 0.07473140389556786, 'max_iter': 54}. Best is trial 1 with value: 0.65625.\n",
            "[I 2023-11-06 17:35:28,833] Trial 38 finished with value: 0.453125 and parameters: {'n_layers': 3, 'n_units_layer0': 239, 'n_units_layer1': 502, 'n_units_layer2': 112, 'activation': 'relu', 'learning_rate_init': 0.03935323503364826, 'max_iter': 376}. Best is trial 1 with value: 0.65625.\n",
            "[I 2023-11-06 17:35:29,348] Trial 39 finished with value: 0.640625 and parameters: {'n_layers': 2, 'n_units_layer0': 61, 'n_units_layer1': 311, 'activation': 'logistic', 'learning_rate_init': 0.0668719012399375, 'max_iter': 929}. Best is trial 1 with value: 0.65625.\n",
            "[I 2023-11-06 17:35:29,503] Trial 40 finished with value: 0.5 and parameters: {'n_layers': 1, 'n_units_layer0': 68, 'activation': 'logistic', 'learning_rate_init': 0.09305907507660523, 'max_iter': 898}. Best is trial 1 with value: 0.65625.\n",
            "[I 2023-11-06 17:35:30,928] Trial 41 finished with value: 0.546875 and parameters: {'n_layers': 2, 'n_units_layer0': 70, 'n_units_layer1': 322, 'activation': 'logistic', 'learning_rate_init': 0.06345607189595263, 'max_iter': 916}. Best is trial 1 with value: 0.65625.\n",
            "[I 2023-11-06 17:35:33,991] Trial 42 finished with value: 0.46875 and parameters: {'n_layers': 2, 'n_units_layer0': 131, 'n_units_layer1': 274, 'activation': 'logistic', 'learning_rate_init': 0.033893141494168354, 'max_iter': 931}. Best is trial 1 with value: 0.65625.\n",
            "[I 2023-11-06 17:35:39,315] Trial 43 finished with value: 0.609375 and parameters: {'n_layers': 2, 'n_units_layer0': 178, 'n_units_layer1': 390, 'activation': 'logistic', 'learning_rate_init': 0.022202510790762024, 'max_iter': 808}. Best is trial 1 with value: 0.65625.\n",
            "[I 2023-11-06 17:35:39,774] Trial 44 finished with value: 0.53125 and parameters: {'n_layers': 2, 'n_units_layer0': 84, 'n_units_layer1': 333, 'activation': 'tanh', 'learning_rate_init': 0.0462619027562201, 'max_iter': 678}. Best is trial 1 with value: 0.65625.\n",
            "[I 2023-11-06 17:35:42,236] Trial 45 finished with value: 0.46875 and parameters: {'n_layers': 3, 'n_units_layer0': 359, 'n_units_layer1': 182, 'n_units_layer2': 364, 'activation': 'logistic', 'learning_rate_init': 0.07362799781957263, 'max_iter': 844}. Best is trial 1 with value: 0.65625.\n",
            "[I 2023-11-06 17:35:47,106] Trial 46 finished with value: 0.5 and parameters: {'n_layers': 2, 'n_units_layer0': 291, 'n_units_layer1': 240, 'activation': 'logistic', 'learning_rate_init': 0.029816384218258583, 'max_iter': 944}. Best is trial 1 with value: 0.65625.\n",
            "[I 2023-11-06 17:35:49,058] Trial 47 finished with value: 0.484375 and parameters: {'n_layers': 1, 'n_units_layer0': 269, 'activation': 'identity', 'learning_rate_init': 0.045645978670372, 'max_iter': 323}. Best is trial 1 with value: 0.65625.\n",
            "[I 2023-11-06 17:35:50,638] Trial 48 finished with value: 0.53125 and parameters: {'n_layers': 3, 'n_units_layer0': 317, 'n_units_layer1': 283, 'n_units_layer2': 431, 'activation': 'logistic', 'learning_rate_init': 0.09775316052296795, 'max_iter': 583}. Best is trial 1 with value: 0.65625.\n",
            "[I 2023-11-06 17:35:51,802] Trial 49 finished with value: 0.578125 and parameters: {'n_layers': 2, 'n_units_layer0': 432, 'n_units_layer1': 364, 'activation': 'relu', 'learning_rate_init': 0.019710025494966796, 'max_iter': 114}. Best is trial 1 with value: 0.65625.\n",
            "[I 2023-11-06 17:35:53,352] Trial 50 finished with value: 0.5 and parameters: {'n_layers': 4, 'n_units_layer0': 390, 'n_units_layer1': 412, 'n_units_layer2': 21, 'n_units_layer3': 363, 'activation': 'tanh', 'learning_rate_init': 0.014527953638486314, 'max_iter': 862}. Best is trial 1 with value: 0.65625.\n",
            "[I 2023-11-06 17:35:55,826] Trial 51 finished with value: 0.53125 and parameters: {'n_layers': 2, 'n_units_layer0': 109, 'n_units_layer1': 376, 'activation': 'logistic', 'learning_rate_init': 0.025127646985081766, 'max_iter': 769}. Best is trial 1 with value: 0.65625.\n",
            "[I 2023-11-06 17:36:00,630] Trial 52 finished with value: 0.5 and parameters: {'n_layers': 2, 'n_units_layer0': 187, 'n_units_layer1': 468, 'activation': 'logistic', 'learning_rate_init': 0.02083935767916358, 'max_iter': 823}. Best is trial 1 with value: 0.65625.\n",
            "[I 2023-11-06 17:36:11,950] Trial 53 finished with value: 0.53125 and parameters: {'n_layers': 2, 'n_units_layer0': 352, 'n_units_layer1': 335, 'activation': 'logistic', 'learning_rate_init': 0.04042574400241679, 'max_iter': 984}. Best is trial 1 with value: 0.65625.\n",
            "[I 2023-11-06 17:36:19,618] Trial 54 finished with value: 0.5625 and parameters: {'n_layers': 2, 'n_units_layer0': 325, 'n_units_layer1': 251, 'activation': 'logistic', 'learning_rate_init': 0.03380899764872609, 'max_iter': 806}. Best is trial 1 with value: 0.65625.\n",
            "[I 2023-11-06 17:36:22,874] Trial 55 finished with value: 0.5 and parameters: {'n_layers': 2, 'n_units_layer0': 291, 'n_units_layer1': 400, 'activation': 'logistic', 'learning_rate_init': 0.012266943601021261, 'max_iter': 961}. Best is trial 1 with value: 0.65625.\n",
            "[I 2023-11-06 17:36:27,285] Trial 56 finished with value: 0.546875 and parameters: {'n_layers': 1, 'n_units_layer0': 186, 'activation': 'logistic', 'learning_rate_init': 0.009711024310055907, 'max_iter': 890}. Best is trial 1 with value: 0.65625.\n",
            "[I 2023-11-06 17:36:29,369] Trial 57 finished with value: 0.515625 and parameters: {'n_layers': 3, 'n_units_layer0': 263, 'n_units_layer1': 375, 'n_units_layer2': 205, 'activation': 'logistic', 'learning_rate_init': 0.016114117949634358, 'max_iter': 262}. Best is trial 1 with value: 0.65625.\n",
            "[I 2023-11-06 17:36:29,645] Trial 58 finished with value: 0.546875 and parameters: {'n_layers': 2, 'n_units_layer0': 90, 'n_units_layer1': 314, 'activation': 'relu', 'learning_rate_init': 0.007212455977388623, 'max_iter': 195}. Best is trial 1 with value: 0.65625.\n",
            "[I 2023-11-06 17:36:31,215] Trial 59 finished with value: 0.46875 and parameters: {'n_layers': 1, 'n_units_layer0': 226, 'activation': 'identity', 'learning_rate_init': 0.05060992223027591, 'max_iter': 398}. Best is trial 1 with value: 0.65625.\n",
            "[I 2023-11-06 17:36:34,121] Trial 60 finished with value: 0.515625 and parameters: {'n_layers': 2, 'n_units_layer0': 52, 'n_units_layer1': 288, 'activation': 'logistic', 'learning_rate_init': 0.0277869403253498, 'max_iter': 881}. Best is trial 1 with value: 0.65625.\n",
            "[I 2023-11-06 17:36:34,846] Trial 61 finished with value: 0.53125 and parameters: {'n_layers': 4, 'n_units_layer0': 113, 'n_units_layer1': 238, 'n_units_layer2': 490, 'n_units_layer3': 199, 'activation': 'relu', 'learning_rate_init': 0.0016165359496289728, 'max_iter': 128}. Best is trial 1 with value: 0.65625.\n",
            "[I 2023-11-06 17:36:35,667] Trial 62 finished with value: 0.578125 and parameters: {'n_layers': 4, 'n_units_layer0': 126, 'n_units_layer1': 262, 'n_units_layer2': 324, 'n_units_layer3': 228, 'activation': 'relu', 'learning_rate_init': 0.00030509416540909306, 'max_iter': 90}. Best is trial 1 with value: 0.65625.\n",
            "[I 2023-11-06 17:36:36,167] Trial 63 finished with value: 0.484375 and parameters: {'n_layers': 4, 'n_units_layer0': 48, 'n_units_layer1': 205, 'n_units_layer2': 451, 'n_units_layer3': 136, 'activation': 'relu', 'learning_rate_init': 0.019013979669251804, 'max_iter': 217}. Best is trial 1 with value: 0.65625.\n",
            "[I 2023-11-06 17:36:37,025] Trial 64 finished with value: 0.515625 and parameters: {'n_layers': 4, 'n_units_layer0': 156, 'n_units_layer1': 303, 'n_units_layer2': 292, 'n_units_layer3': 287, 'activation': 'relu', 'learning_rate_init': 0.023123759737114575, 'max_iter': 625}. Best is trial 1 with value: 0.65625.\n",
            "[I 2023-11-06 17:36:37,411] Trial 65 finished with value: 0.390625 and parameters: {'n_layers': 4, 'n_units_layer0': 169, 'n_units_layer1': 423, 'n_units_layer2': 415, 'n_units_layer3': 390, 'activation': 'relu', 'learning_rate_init': 0.0741268026912785, 'max_iter': 167}. Best is trial 1 with value: 0.65625.\n",
            "[I 2023-11-06 17:36:38,186] Trial 66 finished with value: 0.46875 and parameters: {'n_layers': 3, 'n_units_layer0': 335, 'n_units_layer1': 349, 'n_units_layer2': 499, 'activation': 'logistic', 'learning_rate_init': 0.034514546035829596, 'max_iter': 448}. Best is trial 1 with value: 0.65625.\n",
            "[I 2023-11-06 17:36:40,612] Trial 67 finished with value: 0.421875 and parameters: {'n_layers': 2, 'n_units_layer0': 299, 'n_units_layer1': 133, 'activation': 'relu', 'learning_rate_init': 0.011524631080883065, 'max_iter': 299}. Best is trial 1 with value: 0.65625.\n",
            "[I 2023-11-06 17:36:43,036] Trial 68 finished with value: 0.578125 and parameters: {'n_layers': 1, 'n_units_layer0': 255, 'activation': 'tanh', 'learning_rate_init': 0.05157079546230893, 'max_iter': 245}. Best is trial 1 with value: 0.65625.\n",
            "[I 2023-11-06 17:36:45,066] Trial 69 finished with value: 0.609375 and parameters: {'n_layers': 4, 'n_units_layer0': 226, 'n_units_layer1': 472, 'n_units_layer2': 369, 'n_units_layer3': 438, 'activation': 'relu', 'learning_rate_init': 0.0160707103436975, 'max_iter': 141}. Best is trial 1 with value: 0.65625.\n"
          ]
        },
        {
          "name": "stdout",
          "output_type": "stream",
          "text": [
            "Number of finished trials:  70\n",
            "Best trial:\n",
            "  Value:  0.65625\n",
            "  Params: \n",
            "    n_layers: 4\n",
            "    n_units_layer0: 327\n",
            "    n_units_layer1: 307\n",
            "    n_units_layer2: 108\n",
            "    n_units_layer3: 410\n",
            "    activation: logistic\n",
            "    learning_rate_init: 0.035487452232647494\n",
            "    max_iter: 193\n"
          ]
        }
      ],
      "source": [
        "import optuna\n",
        "from sklearn.neural_network import MLPClassifier\n",
        "from sklearn.metrics import accuracy_score\n",
        "from sklearn.datasets import make_classification\n",
        "from sklearn.model_selection import train_test_split\n",
        "\n",
        "\n",
        "def objective(trial):\n",
        "    # Layers and neurons\n",
        "    n_layers = trial.suggest_int('n_layers', 1,4)\n",
        "    layers = []\n",
        "    for i in range(n_layers):\n",
        "        layers.append(trial.suggest_int(f'n_units_layer{i}', 16,  512))\n",
        "    \n",
        "    # Activation function\n",
        "    activation = trial.suggest_categorical('activation', ['relu', 'logistic', 'tanh', 'identity'])\n",
        "    \n",
        "    # Learning rate\n",
        "    learning_rate_init = trial.suggest_float('learning_rate_init', 1e-4,  1e-1, log=True)\n",
        "    \n",
        "    max_iter = trial.suggest_int('max_iter', 50, 1000)\n",
        "\n",
        "    model = MLPClassifier(hidden_layer_sizes=tuple(layers), \n",
        "                          activation=activation, \n",
        "                          learning_rate_init=learning_rate_init,\n",
        "                          max_iter=max_iter ,  # to ensure convergence in most cases\n",
        "                          random_state=42)\n",
        "\n",
        "    model.fit(X_train_mlp, y_train_mlp)\n",
        "\n",
        "    # Evaluate\n",
        "    predictions = model.predict(X_test_mlp)\n",
        "    accuracy = accuracy_score(y_test_mlp, predictions)\n",
        "    return accuracy\n",
        "\n",
        "study = optuna.create_study(direction='maximize')\n",
        "study.optimize(objective, n_trials=70)\n",
        "\n",
        "print('Number of finished trials: ', len(study.trials))\n",
        "print('Best trial:')\n",
        "trial = study.best_trial\n",
        "print('  Value: ', trial.value)\n",
        "print('  Params: ')\n",
        "for key, value in trial.params.items():\n",
        "    print(f'    {key}: {value}')\n"
      ]
    },
    {
      "cell_type": "code",
      "execution_count": 126,
      "metadata": {},
      "outputs": [
        {
          "name": "stdout",
          "output_type": "stream",
          "text": [
            "Training Accuracy: 0.7617\n",
            "Test Accuracy: 0.6562\n"
          ]
        }
      ],
      "source": [
        "from sklearn.neural_network import MLPClassifier\n",
        "from sklearn.metrics import accuracy_score\n",
        "\n",
        "# Extract the best parameters\n",
        "best_params = study.best_params\n",
        "\n",
        "# Extract individual parameters\n",
        "n_layers = best_params['n_layers']\n",
        "layers = [best_params[f'n_units_layer{i}'] for i in range(n_layers)]\n",
        "activation = best_params['activation']\n",
        "learning_rate_init = best_params['learning_rate_init']\n",
        "max_iter = best_params['max_iter']\n",
        "\n",
        "# Create the model using the best parameters\n",
        "best_model = MLPClassifier(hidden_layer_sizes=tuple(layers), \n",
        "                           activation=activation, \n",
        "                           learning_rate_init=learning_rate_init,\n",
        "                           max_iter=max_iter ,  # to ensure convergence in most cases\n",
        "                           random_state=42)\n",
        "\n",
        "# Train the model using training data\n",
        "best_model.fit(X_train_mlp, y_train_mlp)\n",
        "\n",
        "# Predict using the test data\n",
        "predictions = best_model.predict(X_test_mlp)\n",
        "\n",
        "\n",
        "# Predict using the training data\n",
        "train_predictions = best_model.predict(X_train_mlp)\n",
        "\n",
        "# Evaluate the model using training data\n",
        "train_accuracy = accuracy_score(y_train_mlp, train_predictions)\n",
        "print(f\"Training Accuracy: {train_accuracy:.4f}\")\n",
        "\n",
        "\n",
        "# Evaluate the model using test data\n",
        "accuracy = accuracy_score(y_test_mlp, predictions)\n",
        "print(f\"Test Accuracy: {accuracy:.4f}\")\n"
      ]
    },
    {
      "cell_type": "code",
      "execution_count": 10,
      "metadata": {},
      "outputs": [
        {
          "name": "stdout",
          "output_type": "stream",
          "text": [
            "Model saved as best_mlp_model.joblib\n"
          ]
        }
      ],
      "source": [
        "from sklearn.neural_network import MLPClassifier\n",
        "from sklearn.metrics import accuracy_score\n",
        "from joblib import dump, load\n",
        "\n",
        "# After training and evaluating your model\n",
        "# Save the model to a file\n",
        "model_filename = 'best_mlp_model.joblib'\n",
        "dump(best_model, model_filename)\n",
        "print(f\"Model saved as {model_filename}\")\n"
      ]
    },
    {
      "cell_type": "code",
      "execution_count": 68,
      "metadata": {},
      "outputs": [
        {
          "data": {
            "image/png": "[encoded data removed]",
            "text/plain": [
              "<Figure size 500x300 with 1 Axes>"
            ]
          },
          "metadata": {},
          "output_type": "display_data"
        }
      ],
      "source": [
        "import numpy as np\n",
        "import matplotlib.pyplot as plt\n",
        "\n",
        "# Your data\n",
        "data = [72, 73, 77, 80, 77.5, 74, 76, 75]\n",
        "# Creating an array for the x-axis (essentially just indices)\n",
        "x = np.arange(len(data))\n",
        "\n",
        "# Compute the trendline coefficients\n",
        "z = np.polyfit(x, data, 1)\n",
        "\n",
        "# Create the trendline data using the coefficients\n",
        "p = np.poly1d(z)\n",
        "plt.figure(figsize=(5, 3))\n",
        "# Plotting the data\n",
        "plt.plot(x, data, color='blue', marker='o', label='Data')\n",
        "plt.plot(x, p(x), color='red', linestyle=':',label=f'Trendline: y={z[0]:.4f}x + {z[1]:.4f}')\n",
        "\n",
        "# Adding labels and title\n",
        "plt.xlabel('Task Progress')\n",
        "plt.ylabel('Accuracy (%)')\n",
        "plt.title('SVM Recalibration')\n",
        "plt.legend()\n",
        "plt.grid(False)\n",
        "plt.show()\n"
      ]
    },
    {
      "cell_type": "code",
      "execution_count": 78,
      "metadata": {},
      "outputs": [
        {
          "data": {
            "image/png": "[encoded data removed]",
            "text/plain": [
              "<Figure size 500x300 with 1 Axes>"
            ]
          },
          "metadata": {},
          "output_type": "display_data"
        }
      ],
      "source": [
        "import matplotlib.pyplot as plt\n",
        "\n",
        "# Data\n",
        "subjects = ['S1', 'S2', 'S3', 'S4', 'S5', 'S6']\n",
        "mlp_accuracies = [75, 85, 65, 59, 81, 75]\n",
        "svm_accuracies = [72, 55, 55, 65, 48, 48]\n",
        "\n",
        "# Plot settings\n",
        "bar_width = 0.35\n",
        "index = range(len(subjects))\n",
        "\n",
        "# Plotting the data\n",
        "plt.figure(figsize=(5, 3))\n",
        "\n",
        "# MLP bars\n",
        "plt.bar(index, mlp_accuracies, bar_width, color='skyblue', label='MLP Model')\n",
        "\n",
        "# SVM bars (shifted by bar_width for side-by-side bars)\n",
        "plt.bar([i + bar_width for i in index], svm_accuracies, bar_width, color='salmon', label='SVM')\n",
        "\n",
        "# Setting the title and labels\n",
        "plt.title('Test Accuracy by Subject for MLP and SVM models')\n",
        "plt.xlabel('Subjects')\n",
        "plt.ylabel('Accuracy (%)')\n",
        "plt.xticks([i + bar_width/2 for i in index], subjects)  # positioning the x labels in the center of the grouped bars\n",
        "plt.grid(axis='y', linestyle='--', linewidth=0.7, alpha=0.7)\n",
        "plt.legend()\n",
        "plt.grid(False)\n",
        "# Display the plot\n",
        "plt.tight_layout()\n",
        "plt.show()\n"
      ]
    }
  ],
  "metadata": {
    "colab": {
      "provenance": []
    },
    "kernelspec": {
      "display_name": "base",
      "language": "python",
      "name": "python3"
    },
    "language_info": {
      "codemirror_mode": {
        "name": "ipython",
        "version": 3
      },
      "file_extension": ".py",
      "mimetype": "text/x-python",
      "name": "python",
      "nbconvert_exporter": "python",
      "pygments_lexer": "ipython3",
      "version": "3.8.10"
    },
    "orig_nbformat": 4
  },
  "nbformat": 4,
  "nbformat_minor": 0
}
