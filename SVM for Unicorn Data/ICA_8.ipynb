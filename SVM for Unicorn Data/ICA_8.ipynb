{
  "cells": [
    {
      "cell_type": "code",
      "execution_count": 2,
      "metadata": {
        "id": "vMaBF4q9pl9k"
      },
      "outputs": [],
      "source": [
        "import os\n",
        "import sklearn\n",
        "import numpy as np\n",
        "from numpy import unwrap, diff, abs, angle\n",
        "import pandas as pd\n",
        "import seaborn as sns\n",
        "import tensorflow as tf\n",
        "from sklearn.svm import SVC\n",
        "import matplotlib.pyplot as plt\n",
        "from scipy.signal import hilbert\n",
        "from sklearn.utils import shuffle\n",
        "import scipy\n",
        "from scipy.signal import butter, filtfilt, hilbert\n",
        "from scipy.interpolate import interp1d\n",
        "from scipy.interpolate import CubicSpline\n",
        "from tensorflow.keras.models import Sequential\n",
        "from sklearn.model_selection import GridSearchCV\n",
        "from sklearn.neighbors import KNeighborsRegressor\n",
        "from sklearn.metrics import classification_report\n",
        "from imblearn.over_sampling import RandomOverSampler\n",
        "from sklearn.model_selection import train_test_split\n",
        "from keras.wrappers.scikit_learn import KerasClassifier\n",
        "from tensorflow.keras.optimizers import Adam, SGD, RMSprop\n",
        "from sklearn.metrics import accuracy_score, classification_report\n",
        "from sklearn.metrics import confusion_matrix, ConfusionMatrixDisplay\n",
        "from tensorflow.keras.layers import Dense,  BatchNormalization, Dropout\n",
        "from tensorflow.keras.layers import Conv2D, MaxPooling2D, Flatten, Dense\n",
        "import mne\n",
        "from mne.preprocessing import ICA\n",
        "import pywt\n",
        "from scipy.stats import skew, kurtosis\n",
        "from scipy.signal import spectrogram\n",
        "from mne.viz import plot_topomap\n",
        "from scipy.signal import welch\n",
        "import matplotlib.pyplot as plt"
      ]
    },
    {
      "cell_type": "markdown",
      "metadata": {},
      "source": [
        "Preproccesing Functions"
      ]
    },
    {
      "cell_type": "code",
      "execution_count": 3,
      "metadata": {},
      "outputs": [],
      "source": [
        "def butter_bandpass(lowcut, highcut, fs, order=5):\n",
        "    nyq = 0.5 * fs\n",
        "    low = lowcut / nyq\n",
        "    high = highcut / nyq\n",
        "    b, a = butter(order, [low, high], btype='band')\n",
        "    return b, a\n",
        "\n",
        "def butter_bandpass_filter(data, lowcut, highcut, fs, order=5):\n",
        "    b, a = butter_bandpass(lowcut, highcut, fs, order=order)\n",
        "    y = filtfilt(b, a, data)\n",
        "    return y\n",
        "\n",
        "def denoise_data(df, col_names, n_clusters):\n",
        "    df_denoised = df.copy()\n",
        "    for col_name, k in zip(col_names, n_clusters):\n",
        "        df_denoised[col_name] = pd.to_numeric(df_denoised[col_name], errors='coerce') # Convert column to numeric format\n",
        "        X = df_denoised.select_dtypes(include=['float64', 'int64']) # Select only numeric columns\n",
        "        clf = KNeighborsRegressor(n_neighbors=k, weights='uniform') # Fit KNeighborsRegressor\n",
        "        clf.fit(X.index.values[:, np.newaxis], X[col_name])\n",
        "        y_pred = clf.predict(X.index.values[:, np.newaxis]) # Predict values \n",
        "        df_denoised[col_name] = y_pred\n",
        "    return df_denoised\n",
        "\n",
        "def z_score(df, col_names):\n",
        "    df_standard = df.copy()\n",
        "    for col in col_names:\n",
        "        df_standard[col] = (df[col] - df[col].mean()) / df[col].std()\n",
        "    return df_standard\n",
        "\n",
        "def custom_detrend(df, col_names):\n",
        "    df_detrended = df.copy()\n",
        "    for col in col_names:\n",
        "        y = df_detrended[col]\n",
        "        x = np.arange(len(y))\n",
        "        p = np.polyfit(x, y, 1)\n",
        "        trend = np.polyval(p, x)\n",
        "        detrended = y - trend\n",
        "        df_detrended[col] = detrended\n",
        "    return df_detrended\n",
        "\n",
        "def preprocess(df, col_names, n_clusters):\n",
        "    df_new = df.copy()\n",
        "    df_new = denoise_data(df, col_names, n_clusters)\n",
        "    return df_new\n",
        "\n",
        "def df_to_raw(df, sfreq=250):\n",
        "    info = mne.create_info(ch_names=list(df.columns), sfreq=sfreq, ch_types=['eeg'] * df.shape[1])\n",
        "    raw = mne.io.RawArray(df.T.values * 1e-6, info)  # Converting values to Volts from microvolts for MNE\n",
        "    return raw\n",
        "\n",
        "def reject_artifacts(df, channel):\n",
        "    threshold_factor = 5\n",
        "    median = df[channel].median()\n",
        "    mad = np.median(np.abs(df[channel] - median))\n",
        "    spikes = np.abs(df[channel] - median) > threshold_factor * mad\n",
        "    x = np.arange(len(df[channel]))\n",
        "    cs = CubicSpline(x[~spikes], df[channel][~spikes]) # Interpolate using Cubic Spline\n",
        "    interpolated_values = cs(x)\n",
        "    interpolated_values[spikes] *= 0.1  # Make interpolated values 0.1 times smaller\n",
        "    spike_values = np.abs(interpolated_values - median) > threshold_factor * mad\n",
        "    interpolated_values[spike_values] *= 0.001 \n",
        "    df[channel] = interpolated_values\n",
        "    return df\n",
        "\n",
        "def plot_eeg_data(before, after, title, colors):\n",
        "    \"\"\"Plots EEG data.\"\"\"\n",
        "    plt.figure(figsize=(12, 8))\n",
        "    for i in range(before.shape[1]):\n",
        "        plt.plot(before[:, i] + i * 200, color=colors[i])  # Offset added for visualization clarity\n",
        "    for i in range(after.shape[1]):\n",
        "        plt.plot(after[:, i] + i * 200, color=colors[i], linestyle='--')\n",
        "    plt.title(title)\n",
        "    plt.xlabel('Time (samples)')\n",
        "    plt.ylabel('Amplitude')\n",
        "    plt.show()\n"
      ]
    },
    {
      "attachments": {},
      "cell_type": "markdown",
      "metadata": {},
      "source": [
        "Define the dataset"
      ]
    },
    {
      "cell_type": "code",
      "execution_count": 12,
      "metadata": {},
      "outputs": [],
      "source": [
        "# Creating a new folder for spike rejected data\n",
        "new_folder = 'spike_rejected_data'\n",
        "if not os.path.exists(new_folder):\n",
        "    os.makedirs(new_folder)    \n",
        "folder_name = 'ES_1'\n",
        "selected_columns = ['Fz', 'FC1', 'FC2', 'C3', 'Cz', 'C4', 'CPz', 'Pz']"
      ]
    },
    {
      "cell_type": "code",
      "execution_count": null,
      "metadata": {},
      "outputs": [],
      "source": [
        "subfolder_name = 'spike_rejected_data'\n",
        "# Full path to the subfolder\n",
        "spike_rejected_folder = os.path.join(folder_name, subfolder_name)\n",
        "duration = 40 \n",
        "EEG_Before_ICA = []\n",
        "event = []\n",
        "totaldata = []\n",
        "face = []\n",
        "scene = []\n",
        "if os.path.exists(spike_rejected_folder) and os.path.isdir(spike_rejected_folder):\n",
        "    for file_name in os.listdir(spike_rejected_folder):\n",
        "        if file_name.endswith('.csv'):\n",
        "            file_path = os.path.join(spike_rejected_folder, file_name)\n",
        "            s_temp = pd.read_csv(file_path, header=0)\n",
        "            totaldata.append(s_temp)\n",
        "            instruction = s_temp.iloc[:, 8]\n",
        "            print(instruction.shape)\n",
        "            baseline = s_temp[s_temp.iloc[:, -1].isin(['b', 'g'])].iloc[:, :-1]\n",
        "            baseline_avg = baseline.mean()\n",
        "            non_baseline_data = s_temp[~s_temp.iloc[:, -1].isin(['b', 'g'])]\n",
        "            adjusted_non_baseline = non_baseline_data.iloc[:, :-1] - baseline_avg\n",
        "            concatenated = pd.concat([baseline, adjusted_non_baseline], ignore_index=True)\n",
        "\n",
        "            s_temp_baseline_rejected= pd.concat([concatenated, instruction], axis=1)\n",
        "            print(s_temp_baseline_rejected.shape)\n",
        "            \n",
        "            # Check if the last column contains 'I' or 'O'\n",
        "            if 'I' in instruction.values or 'O' in instruction.values:\n",
        "                scene.append(s_temp_baseline_rejected)\n",
        "            if 'M' in instruction.values or 'F' in instruction.values:\n",
        "                face.append(s_temp_baseline_rejected)                \n",
        "            df_temp = s_temp.iloc[:, :8]\n",
        "            EEG_Before_ICA.append(df_temp)\n",
        "            event.append(instruction)"
      ]
    },
    {
      "cell_type": "code",
      "execution_count": 172,
      "metadata": {},
      "outputs": [
        {
          "name": "stderr",
          "output_type": "stream",
          "text": [
            "C:\\Users\\Maryam\\AppData\\Local\\Temp\\ipykernel_55592\\2445050080.py:1: VisibleDeprecationWarning: Creating an ndarray from ragged nested sequences (which is a list-or-tuple of lists-or-tuples-or ndarrays with different lengths or shapes) is deprecated. If you meant to do this, you must specify 'dtype=object' when creating the ndarray.\n",
            "  face_np=np.array(face)\n"
          ]
        },
        {
          "data": {
            "text/plain": [
              "(9, 250, 46)"
            ]
          },
          "execution_count": 172,
          "metadata": {},
          "output_type": "execute_result"
        }
      ],
      "source": [
        "face_np=np.array(face)\n",
        "face_0_np= face_np[0].to_numpy()\n",
        "face_0_np_reshape=face_0_np.reshape(face_0_np.shape[1], 250, int(face_0_np.shape[0]/250))\n",
        "face_0_np_reshape.shape"
      ]
    },
    {
      "cell_type": "code",
      "execution_count": null,
      "metadata": {},
      "outputs": [],
      "source": [
        "for i in range (len(face_np)):\n",
        "    face_i_np= face_np[i].to_numpy()\n",
        "    face_i_np_reshape=face_i_np.reshape(face_i_np.shape[1], 250, int(face_i_np.shape[0]/250))\n",
        "    print(face_i_np_reshape.shape)"
      ]
    },
    {
      "cell_type": "code",
      "execution_count": 175,
      "metadata": {},
      "outputs": [],
      "source": [
        "face_0_np= face_np[0].to_numpy()\n",
        "face_0_np_t=np.transpose(face_0_np)\n",
        "face_0_np_reshape=face_0_np_t.reshape(face_0_np_t.shape[0], 250, int(face_0_np_t.shape[1]/250))\n"
      ]
    },
    {
      "cell_type": "code",
      "execution_count": 132,
      "metadata": {},
      "outputs": [
        {
          "data": {
            "text/plain": [
              "(9, 250, 46)"
            ]
          },
          "execution_count": 132,
          "metadata": {},
          "output_type": "execute_result"
        }
      ],
      "source": [
        "face_0_np_reshape.shape"
      ]
    },
    {
      "cell_type": "code",
      "execution_count": 107,
      "metadata": {},
      "outputs": [],
      "source": [
        "# Calculate the sampling interval\n",
        "sampling_interval = 1 / 250  \n",
        "times = np.arange(0, 1, step=sampling_interval)\n",
        "times = times * 1000  "
      ]
    },
    {
      "cell_type": "code",
      "execution_count": 277,
      "metadata": {},
      "outputs": [],
      "source": [
        "import numpy as np\n",
        "import pandas as pd\n",
        "\n",
        "def morlet_wavelet(frequency, num_cycles, sampling_rate, duration=2):\n",
        "    t = np.linspace(-duration/2, duration/2, int(sampling_rate * duration), endpoint=False)\n",
        "    sine_wave = np.exp(2j * np.pi * frequency * t)\n",
        "    amplitude_envelope = np.exp(-t**2 * (np.pi * frequency / num_cycles)**2)\n",
        "    wavelet = sine_wave * amplitude_envelope\n",
        "    return wavelet\n",
        "\n",
        "# def convolve_with_wavelet(data, wavelet):\n",
        "#     n_signal = data.shape[1]\n",
        "#     n_wavelet = len(wavelet)\n",
        "#     n_convolution = n_signal + n_wavelet - 1\n",
        "#     data_fft = np.fft.fft(data, n_convolution, axis=1)\n",
        "#     wavelet_fft = np.fft.fft(wavelet, n_convolution)[np.newaxis, :]\n",
        "#     convolution_result_fft = data_fft * wavelet_fft\n",
        "#     convolution_result = np.fft.ifft(convolution_result_fft, axis=1)\n",
        "#     # Cut the data\n",
        "#     start = (n_wavelet - 1) // 2\n",
        "#     end = start + n_signal\n",
        "#     return convolution_result[:, start:end]\n",
        "\n",
        "\n",
        "def convolve_with_wavelet(data, wavelet):\n",
        "    # Ensure data is in 2D form\n",
        "    if data.ndim == 1:\n",
        "        data = data[np.newaxis, :]\n",
        "\n",
        "    n_signal = data.shape[1]\n",
        "    n_wavelet = len(wavelet)\n",
        "    n_convolution = n_signal + n_wavelet - 1\n",
        "\n",
        "    data_fft = np.fft.fft(data, n_convolution, axis=1)\n",
        "    wavelet_fft = np.fft.fft(wavelet, n_convolution)[np.newaxis, :]\n",
        "    convolution_result_fft = data_fft * wavelet_fft\n",
        "    convolution_result = np.fft.ifft(convolution_result_fft, axis=1)\n",
        "\n",
        "    # Cut the data\n",
        "    start = (n_wavelet - 1) // 2\n",
        "    end = start + n_signal\n",
        "    return convolution_result[:, start:end]"
      ]
    },
    {
      "cell_type": "code",
      "execution_count": 269,
      "metadata": {},
      "outputs": [
        {
          "data": {
            "text/plain": [
              "(9, 10000)"
            ]
          },
          "execution_count": 269,
          "metadata": {},
          "output_type": "execute_result"
        }
      ],
      "source": [
        "f_t=np.array(np.transpose(face_np[11]))\n",
        "f_t_r=f_t\n",
        "f_t.shape"
      ]
    },
    {
      "cell_type": "code",
      "execution_count": 330,
      "metadata": {},
      "outputs": [
        {
          "name": "stdout",
          "output_type": "stream",
          "text": [
            "power_matrix_np (20, 300, 1)\n"
          ]
        }
      ],
      "source": [
        "# Constants\n",
        "frequencies = np.arange(0, 40, 2)  # 0 to 40 Hz\n",
        "cycles = np.linspace(1, 10, len(frequencies))  # Variable cycles from 1 to 10\n",
        "sampling_rate = 250\n",
        "power_matrix = []\n",
        "\n",
        "for freq, cycle in zip(frequencies, cycles):\n",
        "    power_blocks_base_corrected=[]\n",
        "    for i in range (len(face_np)): #12\n",
        "        # print('i=',i)\n",
        "        face_i_np= face_np[i].to_numpy()\n",
        "        face_i_np_t=np.transpose(face_i_np)\n",
        "        # print(face_i_np_t.shape)\n",
        "        # face_i_np_reshape=face_i_np_t.reshape(face_i_np_t.shape[0], 250*int(face_i_np_t.shape[1]/250))\n",
        "        \n",
        "        # Extract one channel\n",
        "        data_i_face_t = face_i_np_t[0, :]  # Trials are on the second dimension\n",
        "        # print(data_i_face.shape) #(250, 46)...(250,40)\n",
        "        data_i_face_inst = face_i_np_t[8, :]\n",
        "        # print('data_i_face_inst',data_i_face_inst.shape)\n",
        "        # print(data_i_face_inst.shape) #(250, 46)...(250,40)\n",
        "        # print(data_i_face_inst)\n",
        "        # Calculate power for each trial\n",
        "        # power_trials = []\n",
        "        # instruction_label=[]\n",
        "\n",
        "        wavelet = morlet_wavelet(freq, cycle, sampling_rate)\n",
        "        convolution = convolve_with_wavelet(data_i_face_t , wavelet)    \n",
        "        power = np.abs(convolution)**2\n",
        "        # print('power',power.shape)\n",
        "        \n",
        "        # power_trial_np=np.array(power_trials)\n",
        "            \n",
        "        # print(power_trial_np.shape)\n",
        "        # instruction_label.append(instruction_2D[0])\n",
        "        # instruction_label_np=np.array(instruction_label)\n",
        "        data_i_face_inst_2d = data_i_face_inst[np.newaxis, :]\n",
        "        power_with_inst=np.concatenate([power,data_i_face_inst_2d], axis=0)\n",
        "        # print('power_with_inst.shape', power_with_inst.shape)\n",
        "        power_with_inst_t=np.transpose(power_with_inst)\n",
        "        # print('power_with_inst_t.shape', type(power_with_inst_t), power_with_inst_t.shape)\n",
        "        mask = (power_with_inst_t[:, 1] == 'b') | (power_with_inst_t[:, 1] == 'g')\n",
        "        base = power_with_inst_t[mask]\n",
        "        # mean_base= np.mean(base[:, :-1], axis=0)\n",
        "        # print('mean_base', mean_base)\n",
        "        \n",
        "        epoch_size = 250\n",
        "        epochs_base = []\n",
        "        for start in range(0, len(base), epoch_size):\n",
        "            end = start + epoch_size\n",
        "            if end <= len(base):\n",
        "                epochs_base.append(base[start:end])\n",
        "            else:\n",
        "                epochs_base.append(base[start:])\n",
        "            epochs_base_np=np.array(epochs_base)\n",
        "        # print(epochs_base_np.shape)\n",
        "        \n",
        "        # Calculate the mean across the first dimension, excluding the last column\n",
        "        mean_epochs_base = np.mean(epochs_base_np[:, :, :-1], axis=0)\n",
        "\n",
        "        first_200 = mean_epochs_base[:200]\n",
        "        mean_base_200=np.mean(first_200, axis=0)\n",
        "        \n",
        "        # print('mean_base',mean_base_200)\n",
        "        last_50 = mean_epochs_base[200:]\n",
        "        # print('last_50', last_50)\n",
        "\n",
        "\n",
        "        # 'mean_epochs' is now a 2D array with the means, excluding the label column\n",
        "        # print(\"Shape of mean epochs_base (excluding labels):\", mean_epochs_base.shape) \n",
        "        # mean=np.mean(mean_epochs_base, axis=0)\n",
        "        # print('mean_base',mean)\n",
        "        \n",
        "        \n",
        "        # print('base', base.shape, base)\n",
        "        activity = power_with_inst_t[~mask]\n",
        "        # print('activity ', activity.shape, activity )\n",
        "        \n",
        "        epoch_size = 250\n",
        "        epochs = []\n",
        "        for start in range(0, len(activity), epoch_size):\n",
        "            end = start + epoch_size\n",
        "            if end <= len(activity):\n",
        "                epochs.append(activity[start:end])\n",
        "            else:\n",
        "                epochs.append(activity[start:])\n",
        "            epochs_np=np.array(epochs)\n",
        "        # print(epochs_np.shape)\n",
        "        # Calculate the mean across the first dimension, excluding the last column\n",
        "        activity_mean_epochs = np.mean(epochs_np[:, :, :-1], axis=0)\n",
        "        activity_mean_epochs_concat_base=np.concatenate([last_50,activity_mean_epochs], axis=0)\n",
        "        baseline_corrected_activity=activity_mean_epochs_concat_base/mean_base_200\n",
        "        # print('baseline_corrected_activity', baseline_corrected_activity.shape, baseline_corrected_activity)\n",
        "        power_blocks_base_corrected.append(baseline_corrected_activity)\n",
        "    power_blocks_base_corrected_np= np.array(power_blocks_base_corrected)\n",
        "    # print('power_blocks_base_corrected_np', power_blocks_base_corrected_np.shape) \n",
        "    power_blocks_base_corrected_np_mean=np.mean(power_blocks_base_corrected_np,axis=0)\n",
        "    # print('power_blocks_base_corrected_np_mean', power_blocks_base_corrected_np_mean.shape)\n",
        "    power_matrix.append(power_blocks_base_corrected_np_mean)\n",
        "power_matrix_np=np.array(power_matrix)\n",
        "print('power_matrix_np', power_matrix_np.shape)"
      ]
    },
    {
      "cell_type": "code",
      "execution_count": 306,
      "metadata": {},
      "outputs": [
        {
          "data": {
            "text/plain": [
              "(40, 250, 2)"
            ]
          },
          "execution_count": 306,
          "metadata": {},
          "output_type": "execute_result"
        }
      ],
      "source": [
        "epochs_np.shape"
      ]
    },
    {
      "cell_type": "code",
      "execution_count": null,
      "metadata": {},
      "outputs": [],
      "source": [
        "# Constants\n",
        "frequencies = np.arange(0, 40, 2)  # 0 to 40 Hz\n",
        "cycles = np.linspace(1, 10, len(frequencies))  # Variable cycles from 1 to 10\n",
        "sampling_rate = 250\n",
        "power_matrix = []\n",
        "\n",
        "for freq, cycle in zip(frequencies, cycles):\n",
        "    power_blocks=[]\n",
        "    for i in range (len(face_np)): #12\n",
        "        # print('i=',i)\n",
        "        face_i_np= face_np[i].to_numpy()\n",
        "        face_i_np_t=np.transpose(face_i_np)\n",
        "        print(face_i_np_t.shape)\n",
        "        # face_i_np_reshape=face_i_np_t.reshape(face_i_np_t.shape[0], 250*int(face_i_np_t.shape[1]/250))\n",
        "        \n",
        "        \n",
        "        # Extract one channel\n",
        "        data_i_face_t = face_i_np_t[0, :]  # Trials are on the second dimension\n",
        "        # print(data_i_face.shape) #(250, 46)...(250,40)\n",
        "        data_i_face_inst = face_i_np_t[8, :]\n",
        "        # print(data_i_face_inst.shape) #(250, 46)...(250,40)\n",
        "        print(data_i_face_inst)\n",
        "        # Calculate power for each trial\n",
        "        power_trials = []\n",
        "        instruction_label=[]\n",
        "        for trial_idx in range(data_i_face.shape[1]):\n",
        "            trial_2D = data_i_face[:, trial_idx].reshape(1, -1)  # Making trial 2D for the convolution function\n",
        "            instruction_2D = data_i_face_inst[:, trial_idx]\n",
        "            # print(instruction_2D)\n",
        "            \n",
        "            wavelet = morlet_wavelet(freq, cycle, sampling_rate)\n",
        "            convolution = convolve_with_wavelet(trial_2D, wavelet)\n",
        "            \n",
        "            power = np.abs(convolution)**2\n",
        "            \n",
        "            power_trials.append(power[0])\n",
        "            power_trial_np=np.array(power_trials)\n",
        "            \n",
        "            # print(power_trial_np.shape)\n",
        "            instruction_label.append(instruction_2D[0])\n",
        "            instruction_label_np=np.array(instruction_label)\n",
        "            # power_trial_np_with_inst=np.concatenate([power_trial_np,instruction_label_np], axis=0)\n",
        "      \n",
        "            \n",
        "        # power_trial_np_with_inst=np.concatenate([power_trial_np,instruction_label_np], axis=0 )\n",
        "        # print(power_trial_np_with_inst.shape)\n",
        "        # power_baseline = power_trial_np[s_temp.iloc[:, -1].isin(['b', 'g'])].iloc[:, :-1]\n",
        "        # baseline_avg = baseline.mean()\n",
        "        # non_baseline_data = s_temp[~s_temp.iloc[:, -1].isin(['b', 'g'])]\n",
        "        # adjusted_non_baseline = non_baseline_data.iloc[:, :-1] - baseline_avg\n",
        "        # concatenated = pd.concat([baseline, adjusted_non_baseline], ignore_index=True)\n",
        "\n",
        "        # s_temp_baseline_rejected= pd.concat([concatenated, instruction], axis=1)\n",
        "        # print(s_temp_baseline_rejected.shape)        \n",
        "        power_blocks.append(power_trials)\n",
        "        \n",
        "        \n",
        "        # print(len(power_blocks))\n",
        "        # mean_power_block=np.mean(power_blocks, axis=0)\n",
        "        # print(mean_power_block.shape)\n",
        "        # print('power_blocks', len(power_blocks))\n",
        "    # Average power across trials\n",
        "    avg_power = np.mean(power_blocks, axis=0)\n",
        "    power_matrix.append(avg_power)\n",
        "    # print('power_tmatrix', len(power_matrix))\n",
        "    power_matrix_np= np.array(power_matrix)"
      ]
    },
    {
      "cell_type": "code",
      "execution_count": 250,
      "metadata": {},
      "outputs": [
        {
          "data": {
            "text/plain": [
              "array(['g', 'g', 'g', 'g', 'g', 'g', 'g', 'g', 'g', 'g', 'g', 'g', 'b',\n",
              "       'b', 'b', 'b', 'b', 'b', 'b', 'b', 'b', 'b', 'b', 'b', 'b', 'F',\n",
              "       'F', 'F', 'F', 'F', 'F', 'F', 'F', 'F', 'F', 'F', 'F', 'F', 'F',\n",
              "       'F', 'F', 'F', 'F', 'F', 'F', 'F', 'F', 'F', 'F', 'F', 'F', 'F',\n",
              "       'F', 'F', 'F', 'F', 'F', 'F', 'F', 'F', 'F', 'F', 'F', 'F', 'F',\n",
              "       'F', 'F', 'F', 'F', 'F', 'F', 'F', 'F', 'F', 'F', 'F', 'F', 'F',\n",
              "       'F', 'F', 'F', 'F', 'F', 'F', 'F', 'F', 'F', 'F', 'F', 'F', 'F',\n",
              "       'F', 'F', 'F', 'F', 'F', 'F', 'F', 'F', 'F', 'F', 'F', 'F', 'F',\n",
              "       'F', 'F', 'F', 'F', 'F', 'F', 'F', 'F', 'F', 'F', 'F', 'F', 'F',\n",
              "       'F', 'F', 'F', 'F', 'F', 'F', 'F', 'F', 'F', 'F', 'F', 'F', 'F',\n",
              "       'F', 'F', 'F', 'F', 'F', 'F', 'F', 'F', 'F', 'F', 'F', 'F', 'F',\n",
              "       'F', 'F', 'F', 'F', 'F', 'F', 'F', 'F', 'F', 'F', 'F', 'F', 'F',\n",
              "       'F', 'F', 'F', 'F', 'F', 'F', 'F', 'F', 'F', 'F', 'F', 'F', 'F',\n",
              "       'F', 'F', 'F', 'F', 'F', 'F', 'F', 'F', 'F', 'F', 'F', 'F', 'F',\n",
              "       'F', 'F', 'F', 'F', 'F', 'F', 'F', 'F', 'F', 'F', 'F', 'F', 'F',\n",
              "       'F', 'F', 'F', 'F', 'F', 'F', 'F', 'F', 'F', 'F', 'F', 'F', 'F',\n",
              "       'F', 'F', 'F', 'F', 'F', 'F', 'F', 'F', 'F', 'F', 'F', 'F', 'F',\n",
              "       'F', 'F', 'F', 'F', 'F', 'F', 'F', 'F', 'F', 'F', 'F', 'F', 'F',\n",
              "       'F', 'F', 'F', 'F', 'F', 'F', 'F', 'F', 'F', 'F', 'F', 'F', 'F',\n",
              "       'F', 'F', 'F'], dtype=object)"
            ]
          },
          "execution_count": 250,
          "metadata": {},
          "output_type": "execute_result"
        }
      ],
      "source": [
        "data_i_face_inst[:, 39]"
      ]
    },
    {
      "cell_type": "code",
      "execution_count": null,
      "metadata": {},
      "outputs": [],
      "source": [
        "# Baseline correction function\n",
        "def baseline_correction(power_matrix, power_matrix_baseline):\n",
        "    return power_matrix/power_matrix_baseline  # Division for baseline correction\n",
        "\n",
        "# Constants\n",
        "frequencies = np.arange(0, 40, 2)  # 0 to 40 Hz\n",
        "cycles = np.linspace(1, 10, len(frequencies))  # Variable cycles from 3 to 10\n",
        "sampling_rate=250\n",
        "\n",
        "# Calculate power for variable and fixed cycles\n",
        "power_variable_cycles = calculate_power(cycles)\n",
        "power_baseline_variable_cycles = calculate_power_baseline(cycles)\n",
        "\n",
        "power_fixed_cycles = calculate_power([4] * len(frequencies))  # Fixed cycle: 4\n",
        "power_baseline_fixed_cycles = calculate_power_baseline([4] * len(frequencies))  # Fixed cycle: 4\n",
        "\n",
        "# Apply baseline correction\n",
        "corrected_variable = baseline_correction(power_variable_cycles,power_baseline_variable_cycles )\n",
        "corrected_fixed = baseline_correction(power_fixed_cycles, power_baseline_fixed_cycles)\n"
      ]
    },
    {
      "cell_type": "code",
      "execution_count": 187,
      "metadata": {},
      "outputs": [
        {
          "data": {
            "text/plain": [
              "(20, 527, 250)"
            ]
          },
          "execution_count": 187,
          "metadata": {},
          "output_type": "execute_result"
        }
      ],
      "source": [
        "power_matrix_np.shape"
      ]
    },
    {
      "cell_type": "code",
      "execution_count": 198,
      "metadata": {},
      "outputs": [
        {
          "data": {
            "text/plain": [
              "20"
            ]
          },
          "execution_count": 198,
          "metadata": {},
          "output_type": "execute_result"
        }
      ],
      "source": [
        "power_matrix_np.shape[0]"
      ]
    },
    {
      "cell_type": "code",
      "execution_count": 199,
      "metadata": {},
      "outputs": [],
      "source": [
        "instruction_label_np=np.array(instruction_label)\n",
        "instruction_label_np_reshape=instruction_label_np.reshape(int(power_matrix_np.shape[0]), int(instruction_label_np.shape[0]/power_matrix_np.shape[0]), 250)"
      ]
    },
    {
      "cell_type": "code",
      "execution_count": 200,
      "metadata": {},
      "outputs": [
        {
          "data": {
            "text/plain": [
              "(20, 527, 250)"
            ]
          },
          "execution_count": 200,
          "metadata": {},
          "output_type": "execute_result"
        }
      ],
      "source": [
        "instruction_label_np_reshape.shape"
      ]
    },
    {
      "cell_type": "code",
      "execution_count": null,
      "metadata": {},
      "outputs": [],
      "source": [
        "\n",
        "\n",
        "\n",
        "# Baseline correction function\n",
        "def baseline_correction(power_matrix, power_matrix_baseline):\n",
        "    return power_matrix/power_matrix_baseline  # Division for baseline correction\n",
        "\n",
        "# Constants\n",
        "frequencies = np.arange(0, 40, 2)  # 0 to 40 Hz\n",
        "cycles = np.linspace(1, 10, len(frequencies))  # Variable cycles from 3 to 10\n",
        "sampling_rate=250\n",
        "\n",
        "# Calculate power for variable and fixed cycles\n",
        "power_variable_cycles = calculate_power(cycles)\n",
        "power_baseline_variable_cycles = calculate_power_baseline(cycles)\n",
        "\n",
        "power_fixed_cycles = calculate_power([4] * len(frequencies))  # Fixed cycle: 4\n",
        "power_baseline_fixed_cycles = calculate_power_baseline([4] * len(frequencies))  # Fixed cycle: 4\n",
        "\n",
        "# Apply baseline correction\n",
        "corrected_variable = baseline_correction(power_variable_cycles,power_baseline_variable_cycles )\n",
        "corrected_fixed = baseline_correction(power_fixed_cycles, power_baseline_fixed_cycles)\n",
        "\n"
      ]
    },
    {
      "cell_type": "code",
      "execution_count": 113,
      "metadata": {},
      "outputs": [
        {
          "data": {
            "image/png": "[encoded data removed]",
            "text/plain": [
              "<Figure size 600x400 with 2 Axes>"
            ]
          },
          "metadata": {},
          "output_type": "display_data"
        }
      ],
      "source": [
        "# Plotting function\n",
        "def plot_time_frequency(data, title):\n",
        "    plt.figure(figsize=(6, 4))\n",
        "    plt.imshow(100* np.log10(data), aspect='auto', cmap='jet', origin='lower',\n",
        "               extent=[times[0], times[249], frequencies[0], frequencies[-1]],\n",
        "               vmin=-2, vmax=2)  # Log transform of power; color limits as specified\n",
        "    plt.colorbar(format='%+2.0f dB')\n",
        "    plt.xlabel('Time (ms)')\n",
        "    plt.ylabel('Frequency (Hz)')\n",
        "    plt.title(title)\n",
        "    plt.tight_layout()\n",
        "    plt.show()\n",
        "# Plot the results\n",
        "plot_time_frequency(corrected_variable_scene , 'Time-Frequency (Variable Cycles)')\n"
      ]
    },
    {
      "cell_type": "code",
      "execution_count": 3,
      "metadata": {},
      "outputs": [
        {
          "data": {
            "image/png": "[encoded data removed]",
            "text/plain": [
              "<Figure size 640x480 with 1 Axes>"
            ]
          },
          "metadata": {},
          "output_type": "display_data"
        }
      ],
      "source": [
        "import matplotlib.pyplot as plt\n",
        "import networkx as nx\n",
        "\n",
        "# Since the full matrix is not provided, we are making an assumption based on the given structure.\n",
        "# We assume there are 9 states and the transition probabilities between state i and i+1 are 1/2,\n",
        "# except for states involving p and q.\n",
        "\n",
        "# Define the Markov chain structure based on the transition matrix provided.\n",
        "# For simplicity, we assume p and q affect transitions between states 8 and 9.\n",
        "# The exact values of p and q do not affect the structure of the graph for drawing purposes.\n",
        "\n",
        "# Create a directed graph\n",
        "G = nx.DiGraph()\n",
        "\n",
        "# Add nodes\n",
        "for i in range(1, 10):\n",
        "    G.add_node(i)\n",
        "\n",
        "# Add edges\n",
        "# States 1 and 2 transition to each other with a probability of 1/2\n",
        "G.add_edge(1, 2, weight='1/2')\n",
        "G.add_edge(2, 1, weight='1/2')\n",
        "\n",
        "# From state 3 to state 7, each state transitions to the next state with a probability of 1/2\n",
        "for i in range(2, 8):\n",
        "    G.add_edge(i, i+1, weight='1/2')\n",
        "\n",
        "# The special transitions with p and q\n",
        "G.add_edge(7, 8, weight='1/4 p')\n",
        "G.add_edge(8, 7, weight='1/4 p')\n",
        "G.add_edge(8, 9, weight='1/4 q')\n",
        "G.add_edge(9, 8, weight='1/4 q')\n",
        "\n",
        "# States have a self-loop with varying probabilities\n",
        "G.add_edge(1, 1, weight='1/2')\n",
        "G.add_edge(2, 2, weight='1/2')\n",
        "for i in range(3, 7):\n",
        "    G.add_edge(i, i, weight='1/2')\n",
        "G.add_edge(7, 7, weight='3/4')\n",
        "G.add_edge(8, 8, weight='1/2')\n",
        "G.add_edge(9, 9, weight='3/4')\n",
        "\n",
        "# Draw the graph\n",
        "pos = nx.circular_layout(G)  # positions for all nodes\n",
        "\n",
        "# nodes\n",
        "nx.draw_networkx_nodes(G, pos, node_size=700)\n",
        "\n",
        "# edges\n",
        "nx.draw_networkx_edges(G, pos, edgelist=G.edges(), arrows=True)\n",
        "\n",
        "# labels\n",
        "nx.draw_networkx_labels(G, pos, font_size=20, font_family='sans-serif')\n",
        "edge_labels = nx.get_edge_attributes(G, 'weight')\n",
        "nx.draw_networkx_edge_labels(G, pos, edge_labels=edge_labels, label_pos=0.3)\n",
        "\n",
        "plt.axis('off')\n",
        "plt.show()\n"
      ]
    },
    {
      "cell_type": "code",
      "execution_count": 2,
      "metadata": {},
      "outputs": [
        {
          "name": "stdout",
          "output_type": "stream",
          "text": [
            "Collecting networkx\n",
            "  Obtaining dependency information for networkx from https://files.pythonhosted.org/packages/d5/f0/8fbc882ca80cf077f1b246c0e3c3465f7f415439bdea6b899f6b19f61f70/networkx-3.2.1-py3-none-any.whl.metadata\n",
            "  Downloading networkx-3.2.1-py3-none-any.whl.metadata (5.2 kB)\n",
            "Downloading networkx-3.2.1-py3-none-any.whl (1.6 MB)\n",
            "   ---------------------------------------- 0.0/1.6 MB ? eta -:--:--\n",
            "   ---- ----------------------------------- 0.2/1.6 MB 4.2 MB/s eta 0:00:01\n",
            "   ------------------ --------------------- 0.8/1.6 MB 9.8 MB/s eta 0:00:01\n",
            "   ------------------ --------------------- 0.8/1.6 MB 9.8 MB/s eta 0:00:01\n",
            "   ---------------------------- ----------- 1.2/1.6 MB 6.1 MB/s eta 0:00:01\n",
            "   ---------------------------------------- 1.6/1.6 MB 7.5 MB/s eta 0:00:00\n",
            "Installing collected packages: networkx\n",
            "Successfully installed networkx-3.2.1\n",
            "Note: you may need to restart the kernel to use updated packages.\n"
          ]
        },
        {
          "name": "stderr",
          "output_type": "stream",
          "text": [
            "\n",
            "[notice] A new release of pip is available: 23.2.1 -> 23.3.1\n",
            "[notice] To update, run: python.exe -m pip install --upgrade pip\n"
          ]
        }
      ],
      "source": [
        "pip install networkx "
      ]
    }
  ],
  "metadata": {
    "colab": {
      "provenance": []
    },
    "kernelspec": {
      "display_name": "base",
      "language": "python",
      "name": "python3"
    },
    "language_info": {
      "codemirror_mode": {
        "name": "ipython",
        "version": 3
      },
      "file_extension": ".py",
      "mimetype": "text/x-python",
      "name": "python",
      "nbconvert_exporter": "python",
      "pygments_lexer": "ipython3",
      "version": "3.11.3"
    },
    "orig_nbformat": 4
  },
  "nbformat": 4,
  "nbformat_minor": 0
}
